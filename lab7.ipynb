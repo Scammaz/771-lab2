{
  "cells": [
    {
      "cell_type": "markdown",
      "metadata": {
        "id": "aEdYemXy9dRO"
      },
      "source": [
        "# GTI771 - Apprentissage machine avancé\n",
        "## Département de génie logiciel et des technologies de l’information\n",
        "\n",
        "\n",
        "\n",
        "## Laboratoire 7 - Réseaux de neurones convolutifs (CNN) - classification et régression\n",
        "#### <font color=black> Version 2 - Été 2024 </font>\n",
        "\n",
        "##### <font color=grey> Version 1 - Prof. Alessandro L. Koerich.\n",
        "##### Version 2 - Chargé de lab. Arthur Josi"
      ]
    },
    {
      "cell_type": "markdown",
      "metadata": {
        "id": "h8xD1CSZ9dRQ"
      },
      "source": [
        "| NOMS                  | CODE PERMANENT  |  PARTICIPATION     |\n",
        "|-----------------------|-----------------|--------------------|\n",
        "| Étudiant1             | Code1           |      0%            |\n",
        "| Étudiant2             | Code2           |      0%            |\n",
        "| Étudiant3             | Code3           |      0%            |"
      ]
    },
    {
      "cell_type": "markdown",
      "metadata": {
        "id": "RBQRmxE-9dRR"
      },
      "source": [
        "## Introduction\n",
        "Ce laboratoire porte sur l'apprentissage de la représentation (primitives) et du discriminant d'une façon intégrée avec des réseaux neuronaux convolutifs\n",
        "\n",
        "Vous devez proposer des architectures CNN aﬁn de résoudre deux problèmes: prédiction de l'âge de personnes à partir de photos du visage (régression - dataset FG-NET); prédiction des émotions à partir de photos du visage (classification - dataset FER), introduits dans le cadre des laboratoires précédents.\n",
        "\n",
        "L’évaluation de ce laboratoire sera basée sur:\n",
        "- la qualité des réseaux de neurones proposés et utilisés; (10%)\n",
        "- utilisation du protocole et mesures de performance appropriées; (10%)\n",
        "- les réponses aux questions dans ce notebook;(70%)\n",
        "- l'organisation de votre code source (SVP, n'oubliez pas de mettre des commentaires dans le code source!); (10%)"
      ]
    },
    {
      "cell_type": "markdown",
      "metadata": {
        "id": "oSpjd1Bb9dRR"
      },
      "source": [
        "# Modules et bibliotèques python"
      ]
    },
    {
      "cell_type": "markdown",
      "metadata": {
        "id": "7a9O4Yr29dRS"
      },
      "source": [
        "### Import de bibliotèques"
      ]
    },
    {
      "cell_type": "markdown",
      "metadata": {
        "id": "f09finWQ9dRS"
      },
      "source": [
        "###  <font color=blue> À faire: </font>\n",
        "1. Ajouter les bibliothèques que vous avez utilisées pour compléter ce notebook dans une cellule avec une petite description."
      ]
    },
    {
      "cell_type": "code",
      "execution_count": null,
      "metadata": {
        "id": "r_WQS-ca9dRS"
      },
      "outputs": [],
      "source": [
        "import numpy as np  # package for scientific computing with Python.\n",
        "import matplotlib.pyplot as plt # 2D plotting library"
      ]
    },
    {
      "cell_type": "markdown",
      "metadata": {
        "id": "4PjoyMRI9dRT"
      },
      "source": [
        "### Définition des fonctions"
      ]
    },
    {
      "cell_type": "code",
      "execution_count": null,
      "metadata": {
        "id": "FRF51_Ku9dRT"
      },
      "outputs": [],
      "source": [
        "def fa():\n",
        "    return 1"
      ]
    },
    {
      "cell_type": "markdown",
      "metadata": {
        "id": "wbMwQKvq9dRT"
      },
      "source": [
        "# Partie 1 - Apprentissage de représentation et régression avec FG-NET (40%)\n",
        "\n",
        "Point de départ: fichier *fg-net-nxm.csv* - images nettoyées et normalisées avec résolution $n$ $\\times$ $m$."
      ]
    },
    {
      "cell_type": "markdown",
      "metadata": {
        "id": "_eQSHWOC9dRT"
      },
      "source": [
        "## 1a: Données de FG-NET. (10%)\n",
        "\n",
        "###  <font color=blue> À faire: </font>\n",
        "1. Reprenez vos images FG-NET savaugardées dans un fichier *csv*. Vous devez lire ces images et les représenter sous la forme d’une matrice $X\\_data$ aussi que les vecteurs $Y\\_data$ avec les âges (étiquettes) et $Z\\_data$ avec les id des sujets."
      ]
    },
    {
      "cell_type": "code",
      "execution_count": null,
      "metadata": {
        "id": "KrdAqCdL9dRU"
      },
      "outputs": [],
      "source": []
    },
    {
      "cell_type": "markdown",
      "source": [
        "  2.  **Explications:**\n",
        "\n",
        "Définition du protocole expérimental avec FG-NET.\n",
        "\n",
        "Idéalement, vous devez utiliser le protocole <font color=blue> \"Leave One Subject Out Cross-Validation\" </font> (LOSO).\n",
        "\n",
        "Cependant, en raison des longs temps d'apprentissage des CNNs, un tel protocole expérimental n'est pas réalisable. Par conséquent, vous êtes invité à établir un protocole \"hold-out\" pour l'ensemble de données FG-NET.\n",
        "\n",
        "Je vous suggère une répartition 50% - 20% - 30% entraînement-validation-test. Cependant, vous devez faire cette répartition \"par sujet\" pour vous assurer que les visages d'un même sujet ne sont présents que sur une seule partition.\n",
        "\n",
        "Par exemple, en supposant 10 sujets avec 20 visages chacun. Vous aurez un ensemble d’entraînement avec 5 sujets (sujets A, B, C, D, E - 100 images de visage), un ensemble de validation avec 2 sujets (sujets F, G - 40 images de visage) et un ensemble de tests avec 3 sujets (sujets H, I, J - 60 images de visage).\n",
        "\n",
        "  **A faire:** Créer trois partitions de données à partir des images de FG-NET:\n",
        "    - Ensemble d'entraînement - *D_train* (50% x 82) = 41 sujets\n",
        "    - Ensemble de validation - *D_valid* (20% x 82) = 17 sujets\n",
        "    - Ensemble de tests - *D_test* (30% x 82) = 24 sujets <br><br>\n",
        "    \n",
        "    Ici, vous devez aussi faire attention pour ne changer pas la distribution d'âges dans les partitions de données (stratified sampling)."
      ],
      "metadata": {
        "id": "LxSOYyoH_JQ6"
      }
    },
    {
      "cell_type": "code",
      "source": [],
      "metadata": {
        "id": "Qob0pDAeAQq0"
      },
      "execution_count": null,
      "outputs": []
    },
    {
      "cell_type": "markdown",
      "source": [
        "3. Générez un fichier *fg-net-nxm-split.csv* avec les données nettoyées et normalisées, où $n$ et $m$ représentent la résolution finale des images. En fait, vous devez prendre le fichier *fg-net-nxm.csv* et ajouter, l'usage de chaque image (similaire à FER2013)\n",
        "   - Format du fichier: subject,age,pixels,use\n",
        "      * sujet: integer\n",
        "      * âge: integer\n",
        "      * pixels: integer [0, 255]\n",
        "      * use: nominal [training, validation, test]<br><br>"
      ],
      "metadata": {
        "id": "pt7wxtSa_xeY"
      }
    },
    {
      "cell_type": "code",
      "source": [],
      "metadata": {
        "id": "PpHvdELj_Xbz"
      },
      "execution_count": null,
      "outputs": []
    },
    {
      "cell_type": "markdown",
      "metadata": {
        "id": "LgtbiC2t9dRU"
      },
      "source": [
        "## 1b: Architecture CNN Régression FG-NET. (20%)\n",
        "Point de départ: fichier *fg-net-nxm.csv* or *D_train*, *D_val*, *D_test*"
      ]
    },
    {
      "cell_type": "markdown",
      "metadata": {
        "id": "LGMTsJFI9dRV"
      },
      "source": [
        "1. Générer des partitions de données pour entraîner le CNN:\n",
        "    - Ensemble d'entraînement: *X_train* et *y_train*\n",
        "    - Ensemble de validation : *X_valid* et *y_val*\n",
        "    - Ensemble de test       : *X_test* et  *y_test* <br><br>\n",
        "    \n"
      ]
    },
    {
      "cell_type": "code",
      "source": [],
      "metadata": {
        "id": "kbU9MMr0AFdM"
      },
      "execution_count": null,
      "outputs": []
    },
    {
      "cell_type": "markdown",
      "metadata": {
        "id": "JdgtzbJW9dRV"
      },
      "source": [
        "2. Utiliser Pytorch ou [Tensorflow et Keras](https://www.tensorflow.org/tutorials/keras/regression) pour construire un réseau de neurones convolutifs pour extraire les primitives et faire la regression (end-to-end learning); Proposer une architecture appropriée pour FG-NET : nombre de couches convolutifs (CLs), nombre et dimension des filtres de chaque couche (kernel size), pas (stride), nombre et dimension des couches entièrement connectées (FC), fonctions d'activation de chaque couche, couches supplémentaires comme normalisation de batch, dropout, etc."
      ]
    },
    {
      "cell_type": "code",
      "source": [],
      "metadata": {
        "id": "c23pnc4BCSt0"
      },
      "execution_count": null,
      "outputs": []
    },
    {
      "cell_type": "markdown",
      "source": [
        "3. Entraîner et optimiser les paramètres du réseau (modèle 1).\n"
      ],
      "metadata": {
        "id": "ybrBi6huCS8C"
      }
    },
    {
      "cell_type": "code",
      "source": [],
      "metadata": {
        "id": "FIJcrUCkCpup"
      },
      "execution_count": null,
      "outputs": []
    },
    {
      "cell_type": "markdown",
      "source": [
        "5. Entraîner un autre modèle avec \"data augmentation\" pour améliorer la généralisation (modèle 2).\n",
        "\n"
      ],
      "metadata": {
        "id": "3fF3TpusCqRC"
      }
    },
    {
      "cell_type": "code",
      "source": [],
      "metadata": {
        "id": "8RT88J1zCs_Z"
      },
      "execution_count": null,
      "outputs": []
    },
    {
      "cell_type": "markdown",
      "source": [
        "6. Faire une brève analyse des résultats et présenter vos considérations et conclusions sur les réseaux de neurones de convolution. Comparer avec les résultats obtenus avec les CNNs avec ceux obtenus dans les laboratoires précédents concernant des modèles de régression (TPs 5 et 6).\n",
        "\n"
      ],
      "metadata": {
        "id": "HO0EMN6-CuFo"
      }
    },
    {
      "cell_type": "markdown",
      "source": [],
      "metadata": {
        "id": "7lOJaq0zCwOC"
      }
    },
    {
      "cell_type": "markdown",
      "source": [
        "| Algorithme            | Paramètres    |  MSE  |  MAE  | ????? |\n",
        "|-----------------------|---------------|-------|-------|-------|\n",
        "| Regr lineaire         | XXX.XX        |XXX.XX |XXX.XX |       |\n",
        "| Regr Ridge            | alpha = 0.1   |123.34 | 10.45 |       |\n",
        "| Regr Lasso            | XXX.XX        |XXX.XX |XXX.XX |       |\n",
        "| Regr ElasticNet       | XXX.XX        |XXX.XX |XXX.XX |       |\n",
        "| MLP 1                 | 512:100:100:1 |XXX.XX |XXX.XX |       |\n",
        "| MLP 2                 | 512:50:1      |XXX.XX |XXX.XX |       |\n",
        "| CNN 1                 | 512:100:100:1 |XXX.XX |XXX.XX |       |\n",
        "| CNN 2 (DA)            | 512:50:1      |XXX.XX |XXX.XX |       |"
      ],
      "metadata": {
        "id": "e2vOC5-FC12S"
      }
    },
    {
      "cell_type": "markdown",
      "metadata": {
        "tags": [],
        "id": "50IKjUjA9dRW"
      },
      "source": [
        "## 1c: Fine-tuning d'un CNN pré-entraîné pour FG-NET. (10%)"
      ]
    },
    {
      "cell_type": "markdown",
      "metadata": {
        "id": "mRFasYUO9dRW"
      },
      "source": [
        "1. Récupérer une architecture CNN pré-entraînée disponible dans Pytorch ou Keras pour faire un “transfert de connaissance (transfer learning). Faire un \"fine-tuning\" du modèle choisi sur FG-NET puis expliquer les modifications/adaptations apportées au modèle pré-entraîné (p. ex., description de couches ajoutées ou enlevées pour faire fonctionner le modèle sur vos données)\n",
        "\n"
      ]
    },
    {
      "cell_type": "code",
      "source": [],
      "metadata": {
        "id": "SwSY82L0B1zj"
      },
      "execution_count": null,
      "outputs": []
    },
    {
      "cell_type": "markdown",
      "source": [
        "2. Faire une brève analyse des résultats et présenter vos considérations et conclusions sur les réseaux de neurones de convolution. Comparer avec les résultats obtenus avec les CNNs avec ceux obtenus dans les laboratoires précédents concernant des modèles de régression (TPs 5 et 6).\n",
        "\n",
        "| Algorithme            | Paramètres    |  MSE  |  MAE  | ????? |\n",
        "|-----------------------|---------------|-------|-------|-------|\n",
        "| Regr lineaire         | XXX.XX        |XXX.XX |XXX.XX |       |\n",
        "| Regr Ridge            | alpha = 0.1   |123.34 | 10.45 |       |\n",
        "| Regr Lasso            | XXX.XX        |XXX.XX |XXX.XX |       |\n",
        "| Regr ElasticNet       | XXX.XX        |XXX.XX |XXX.XX |       |\n",
        "| MLP 1                 | 512:100:100:1 |XXX.XX |XXX.XX |       |\n",
        "| MLP 2                 | 512:50:1      |XXX.XX |XXX.XX |       |\n",
        "| CNN 1                 | 512:100:100:1 |XXX.XX |XXX.XX |       |\n",
        "| CNN 2 (DA)            | 512:50:1      |XXX.XX |XXX.XX |       |\n",
        "| VGG16 (DA)            | 512:50:1      |XXX.XX |XXX.XX |       |"
      ],
      "metadata": {
        "id": "-XapvDsbB2Hp"
      }
    },
    {
      "cell_type": "markdown",
      "metadata": {
        "id": "f6xoHujB9dRW"
      },
      "source": [
        "Votre description ici"
      ]
    },
    {
      "cell_type": "markdown",
      "metadata": {
        "id": "VEjkIFpQ9dRW"
      },
      "source": [
        "# Partie 2 - Apprentissage de représentation et classification avec FER (30%)\n",
        "\n",
        "Point de départ: fichier *fer2013-clean-pre.csv* - images nettoyées et normalisées."
      ]
    },
    {
      "cell_type": "markdown",
      "metadata": {
        "id": "Cg34NTvD9dRW"
      },
      "source": [
        "## 2: Architecture CNN Classification FER2013 (30%)\n"
      ]
    },
    {
      "cell_type": "markdown",
      "metadata": {
        "id": "FAfUdA7H9dRX"
      },
      "source": [
        "###  <font color=blue> À faire: </font>\n",
        "1. Reprenez votre ensemble de données nettoyé et repérez les trois partitions de données: apprentissage, validation et test."
      ]
    },
    {
      "cell_type": "code",
      "execution_count": null,
      "metadata": {
        "tags": [],
        "id": "261GRHPP9dRX"
      },
      "outputs": [],
      "source": [
        "# Load data\n",
        "ferData = np.loadtxt( 'fer2013-clean-pre.csv', delimiter=',', dtype=str )\n",
        "\n",
        "# Images d'entraînement\n",
        "Xtrain = <à compléter>\n",
        "ytrain = <à compléter>\n",
        "\n",
        "# Images de validation\n",
        "Xval = <à compléter>\n",
        "yval = <à compléter>\n",
        "\n",
        "# Images de test\n",
        "Xtest = <à compléter>\n",
        "ytest = <à compléter>\n",
        "\n",
        "print(Xtrain.shape, Xval.shape, Xtest.shape)"
      ]
    },
    {
      "cell_type": "markdown",
      "metadata": {
        "id": "7YCM3r9X9dRX"
      },
      "source": [
        "2. Utiliser Pytorch ou [Tensorflow et Keras](https://www.tensorflow.org/tutorials/keras/classification) pour construire un réseau de neurones convolutif (classe) qui vous servira par la suite à apprendre une représentation des images de visage (primitives) et faire la classification (end-to-end learning). Vous pouvez reprendre l'architecture de la partie 1 avec quelques adaptations pour qu'il fonctionne sur ce problème.\n"
      ]
    },
    {
      "cell_type": "code",
      "source": [],
      "metadata": {
        "id": "Z5LrneqwEcoa"
      },
      "execution_count": null,
      "outputs": []
    },
    {
      "cell_type": "markdown",
      "source": [
        "2. Entraîner et optimiser les paramètres du réseau (modèle 1).\n"
      ],
      "metadata": {
        "id": "WeYxmf8UEdvB"
      }
    },
    {
      "cell_type": "code",
      "source": [],
      "metadata": {
        "id": "_U16QFUVEl7Y"
      },
      "execution_count": null,
      "outputs": []
    },
    {
      "cell_type": "markdown",
      "source": [
        "3. Entraîner un autre modèle avec \"data augmentation\" pour améliorer la généralisation (modèle 2).\n"
      ],
      "metadata": {
        "id": "GCfSsek5EmS2"
      }
    },
    {
      "cell_type": "code",
      "source": [],
      "metadata": {
        "id": "4bklovNWEop3"
      },
      "execution_count": null,
      "outputs": []
    },
    {
      "cell_type": "markdown",
      "source": [
        "4. Prenez le modèle le plus performant pour faire la prédiction sur tous les exemples (apprentissage, validation, test) et rapporter les résultats (comme fait dans les TP1 à TP4 et TP6):<br>\n",
        "   3a. Rapport de classification produit avec *<font color=green>from sklearn.metrics import classification_report</font>*<br>\n",
        "   3b. taux de classification correct sur les trois (3) ensembles de données (sous la forme d'un tableau)<br>\n",
        "   3c. matrice de confusion produite avec *<font color=green> from sklearn.metrics import confusion_matrix</font>* pour les résultats sur l'ensemble de tests (matrice 7 $\\times$ 7 - étiquettes $\\times$ prédictions)\n"
      ],
      "metadata": {
        "id": "T5x1lCXHEoUf"
      }
    },
    {
      "cell_type": "code",
      "source": [],
      "metadata": {
        "id": "dP4ZnD_iE0p7"
      },
      "execution_count": null,
      "outputs": []
    },
    {
      "cell_type": "markdown",
      "source": [
        "\n",
        "5. Comparez les résultats avec ceux attendus avec le réseau MLP (TP6), les primitives « deep » réduits (TP4), les primitives « deep » (TP3), les primitives globales/locales (TP2) et *template matching* (TP1)\n",
        "\n"
      ],
      "metadata": {
        "id": "k67_TrJhE0b0"
      }
    },
    {
      "cell_type": "code",
      "source": [],
      "metadata": {
        "id": "xP3GzfW2E5IU"
      },
      "execution_count": null,
      "outputs": []
    },
    {
      "cell_type": "markdown",
      "metadata": {
        "id": "c5oG7p4n9dRY"
      },
      "source": [
        "6. Faire une brève analyse des résultats et présenter vos considérations et conclusions sur la pertinence / advantages / désavantages des réseaux neuronaux."
      ]
    },
    {
      "cell_type": "markdown",
      "source": [],
      "metadata": {
        "id": "WsMw_LT6FKv_"
      }
    }
  ],
  "metadata": {
    "kernelspec": {
      "display_name": "Python 3 (ipykernel)",
      "language": "python",
      "name": "python3"
    },
    "language_info": {
      "codemirror_mode": {
        "name": "ipython",
        "version": 3
      },
      "file_extension": ".py",
      "mimetype": "text/x-python",
      "name": "python",
      "nbconvert_exporter": "python",
      "pygments_lexer": "ipython3",
      "version": "3.10.8"
    },
    "colab": {
      "provenance": []
    }
  },
  "nbformat": 4,
  "nbformat_minor": 0
}