{
  "cells": [
    {
      "cell_type": "markdown",
      "metadata": {
        "id": "aEdYemXy9dRO"
      },
      "source": [
        "# GTI771 - Apprentissage machine avancé\n",
        "## Département de génie logiciel et des technologies de l’information\n",
        "\n",
        "\n",
        "\n",
        "## Laboratoire 7 - Réseaux de neurones convolutifs (CNN) - classification et régression\n",
        "#### <font color=black> Version 2 - Été 2024 </font>\n",
        "\n",
        "##### <font color=grey> Version 1 - Prof. Alessandro L. Koerich.\n",
        "##### Version 2 - Chargé de lab. Arthur Josi"
      ]
    },
    {
      "cell_type": "markdown",
      "metadata": {
        "id": "h8xD1CSZ9dRQ"
      },
      "source": [
        "| NOMS                  | CODE PERMANENT  |  PARTICIPATION     |\n",
        "|-----------------------|-----------------|--------------------|\n",
        "| Étudiant1             | Code1           |      0%            |\n",
        "| Étudiant2             | Code2           |      0%            |\n",
        "| Étudiant3             | Code3           |      0%            |"
      ]
    },
    {
      "cell_type": "markdown",
      "metadata": {
        "id": "RBQRmxE-9dRR"
      },
      "source": [
        "## Introduction\n",
        "Ce laboratoire porte sur l'apprentissage de la représentation (primitives) et du discriminant d'une façon intégrée avec des réseaux neuronaux convolutifs\n",
        "\n",
        "Vous devez proposer des architectures CNN aﬁn de résoudre deux problèmes: prédiction de l'âge de personnes à partir de photos du visage (régression - dataset FG-NET); prédiction des émotions à partir de photos du visage (classification - dataset FER), introduits dans le cadre des laboratoires précédents.\n",
        "\n",
        "L’évaluation de ce laboratoire sera basée sur:\n",
        "- la qualité des réseaux de neurones proposés et utilisés; (10%)\n",
        "- utilisation du protocole et mesures de performance appropriées; (10%)\n",
        "- les réponses aux questions dans ce notebook;(70%)\n",
        "- l'organisation de votre code source (SVP, n'oubliez pas de mettre des commentaires dans le code source!); (10%)"
      ]
    },
    {
      "cell_type": "markdown",
      "metadata": {
        "id": "oSpjd1Bb9dRR"
      },
      "source": [
        "# Modules et bibliotèques python"
      ]
    },
    {
      "cell_type": "markdown",
      "metadata": {
        "id": "7a9O4Yr29dRS"
      },
      "source": [
        "### Import de bibliotèques"
      ]
    },
    {
      "cell_type": "markdown",
      "metadata": {
        "id": "f09finWQ9dRS"
      },
      "source": [
        "###  <font color=blue> À faire: </font>\n",
        "1. Ajouter les bibliothèques que vous avez utilisées pour compléter ce notebook dans une cellule avec une petite description."
      ]
    },
    {
      "cell_type": "code",
      "execution_count": 5,
      "metadata": {
        "id": "r_WQS-ca9dRS"
      },
      "outputs": [],
      "source": [
        "import numpy as np  # package for scientific computing with Python.\n",
        "import matplotlib.pyplot as plt # 2D plotting library\n",
        "import pandas as pd\n",
        "import os\n",
        "import re\n",
        "from PIL import Image\n",
        "import numpy as np\n",
        "import re \n",
        "import face_recognition\n",
        "import cv2\n",
        "from mtcnn import MTCNN\n",
        "\n",
        "import tensorflow as tf\n",
        "from tensorflow.keras.applications import ResNet50V2\n",
        "from tensorflow.keras.models import Model\n",
        "\n",
        "from skimage import io, exposure, filters, transform, color\n",
        "from skimage.color import rgb2gray\n",
        "\n",
        "from sklearn.preprocessing import MinMaxScaler\n",
        "from sklearn.decomposition import PCA\n",
        "from sklearn.model_selection import LeaveOneGroupOut\n",
        "from sklearn.model_selection import LeaveOneOut\n",
        "from sklearn.linear_model import LinearRegression, Ridge\n",
        "from sklearn.neighbors import KNeighborsClassifier\n",
        "from sklearn.metrics import r2_score, mean_absolute_error, mean_squared_error, accuracy_score, top_k_accuracy_score"
      ]
    },
    {
      "cell_type": "markdown",
      "metadata": {
        "id": "4PjoyMRI9dRT"
      },
      "source": [
        "### Définition des fonctions"
      ]
    },
    {
      "cell_type": "code",
      "execution_count": null,
      "metadata": {
        "id": "FRF51_Ku9dRT"
      },
      "outputs": [],
      "source": [
        "def fa():\n",
        "    return 1"
      ]
    },
    {
      "cell_type": "markdown",
      "metadata": {
        "id": "wbMwQKvq9dRT"
      },
      "source": [
        "# Partie 1 - Apprentissage de représentation et régression avec FG-NET (40%)\n",
        "\n",
        "Point de départ: fichier *fg-net-nxm.csv* - images nettoyées et normalisées avec résolution $n$ $\\times$ $m$."
      ]
    },
    {
      "cell_type": "markdown",
      "metadata": {
        "id": "_eQSHWOC9dRT"
      },
      "source": [
        "## 1a: Données de FG-NET. (10%)\n",
        "\n",
        "###  <font color=blue> À faire: </font>\n",
        "1. Reprenez vos images FG-NET savaugardées dans un fichier *csv*. Vous devez lire ces images et les représenter sous la forme d’une matrice $X\\_data$ aussi que les vecteurs $Y\\_data$ avec les âges (étiquettes) et $Z\\_data$ avec les id des sujets."
      ]
    },
    {
      "cell_type": "code",
      "execution_count": 15,
      "metadata": {
        "id": "KrdAqCdL9dRU"
      },
      "outputs": [
        {
          "name": "stdout",
          "output_type": "stream",
          "text": [
            "fg-net:\t39936 features\n",
            "pca:\t1000 features\n",
            "fg-net:\t1000 samples\n",
            "(1000, 39936)\n",
            "(1000, 128, 104, 3)\n",
            "(1000,)\n",
            "(1000,)\n"
          ]
        }
      ],
      "source": [
        "data = np.loadtxt('fg-net-128x104.csv.csv', delimiter=',',dtype=str)\n",
        "#data = np.loadtxt('content/fg-net-4x4-restNET50v2.csv', delimiter=',',dtype=str)\n",
        "#data = np.loadtxt('content/fg-net-nxm.csv.csv', delimiter=',',dtype=str)\n",
        "\n",
        "\n",
        "def transform_str_float(d):\n",
        "    return np.array([np.fromstring(row, sep=' ', dtype=float) for row in d])\n",
        "\n",
        "x_data = transform_str_float(data[1:,2])\n",
        "y_data = np.array(data[1:,1], dtype=int)\n",
        "z_data = np.array(data[1:,0], dtype=int)\n",
        "\n",
        "print(f\"fg-net:\\t{x_data.shape[1]} features\")\n",
        "\n",
        "\n",
        "\n",
        "pca = PCA(n_components=1000)\n",
        "x_data_pca = pca.fit_transform(x_data)\n",
        "\n",
        "print(f\"pca:\\t{x_data_pca.shape[1]} features\")\n",
        "\n",
        "print(f\"fg-net:\\t{x_data_pca.shape[0]} samples\")\n",
        "\n",
        "\n",
        "\n",
        "X_data = x_data\n",
        "\n",
        "##Print shape of X_data\n",
        "print(X_data.shape)\n",
        "X_data = np.reshape(X_data, (X_data.shape[0],128, 104,3))\n",
        "print(X_data.shape) \n",
        "\n",
        "##Print shape of y_data\n",
        "print(y_data.shape)\n",
        "\n",
        "##Print shape of z_data\n",
        "print(z_data.shape)\n"
      ]
    },
    {
      "cell_type": "code",
      "execution_count": 17,
      "metadata": {},
      "outputs": [
        {
          "data": {
            "image/png": "[encoded data removed]",
            "text/plain": [
              "<Figure size 640x480 with 1 Axes>"
            ]
          },
          "metadata": {},
          "output_type": "display_data"
        }
      ],
      "source": [
        "\n",
        "#Testing to see if the images appear well\n",
        "image = X_data[0]\n",
        "plt.imshow(image)\n",
        "plt.show()\n",
        "\n"
      ]
    },
    {
      "cell_type": "markdown",
      "metadata": {
        "id": "LxSOYyoH_JQ6"
      },
      "source": [
        "  2.  **Explications:**\n",
        "\n",
        "Définition du protocole expérimental avec FG-NET.\n",
        "\n",
        "Idéalement, vous devez utiliser le protocole <font color=blue> \"Leave One Subject Out Cross-Validation\" </font> (LOSO).\n",
        "\n",
        "Cependant, en raison des longs temps d'apprentissage des CNNs, un tel protocole expérimental n'est pas réalisable. Par conséquent, vous êtes invité à établir un protocole \"hold-out\" pour l'ensemble de données FG-NET.\n",
        "\n",
        "Je vous suggère une répartition 50% - 20% - 30% entraînement-validation-test. Cependant, vous devez faire cette répartition \"par sujet\" pour vous assurer que les visages d'un même sujet ne sont présents que sur une seule partition.\n",
        "\n",
        "Par exemple, en supposant 10 sujets avec 20 visages chacun. Vous aurez un ensemble d’entraînement avec 5 sujets (sujets A, B, C, D, E - 100 images de visage), un ensemble de validation avec 2 sujets (sujets F, G - 40 images de visage) et un ensemble de tests avec 3 sujets (sujets H, I, J - 60 images de visage).\n",
        "\n",
        "  **A faire:** Créer trois partitions de données à partir des images de FG-NET:\n",
        "    - Ensemble d'entraînement - *D_train* (50% x 82) = 41 sujets\n",
        "    - Ensemble de validation - *D_valid* (20% x 82) = 17 sujets\n",
        "    - Ensemble de tests - *D_test* (30% x 82) = 24 sujets <br><br>\n",
        "    \n",
        "    Ici, vous devez aussi faire attention pour ne changer pas la distribution d'âges dans les partitions de données (stratified sampling)."
      ]
    },
    {
      "cell_type": "code",
      "execution_count": 23,
      "metadata": {
        "id": "Qob0pDAeAQq0"
      },
      "outputs": [
        {
          "name": "stdout",
          "output_type": "stream",
          "text": [
            "{1: [2, 5, 8, 10, 14, 16, 18, 19, 22, 28, 29, 33, 40, 43, 43], 2: [3, 4, 5, 7, 12, 15, 16, 18, 20, 21, 23, 26, 29, 31, 36, 38], 3: [18, 20, 23, 25, 35, 38, 47, 49, 51, 58, 60, 61], 4: [19, 21, 26, 28, 30, 37, 40, 48, 51, 53, 62, 63], 5: [18, 24, 30, 31, 35, 40, 45, 48, 49, 52, 61], 6: [24, 28, 31, 36, 40, 42, 46, 51, 55, 61, 67, 69], 7: [1, 18, 22, 23, 26, 37, 38, 39, 45], 8: [3, 6, 8, 12, 13, 16, 17, 18, 21, 29, 30, 31, 33, 35, 41], 9: [0, 1, 3, 5, 9, 11, 13, 14, 16, 16, 18, 22, 22], 10: [1, 4, 5, 6, 7, 7, 9, 10, 12, 15, 16, 18], 11: [2, 5, 7, 11, 13, 14, 15, 17, 20, 27, 30, 34, 40, 42], 12: [4, 7, 12, 14, 18, 21, 23, 24, 25, 26, 27, 30, 32, 34, 36], 13: [0, 8, 16, 18, 19, 21, 23, 25, 30, 34, 41, 44], 14: [12, 14, 16, 18, 22, 30, 36, 40, 42], 15: [0, 1, 3, 4, 5, 7, 9, 10, 12, 14, 15, 17, 19], 16: [1, 3, 4, 5, 7, 8, 10, 12, 14, 16, 17, 18, 19], 17: [5, 7, 12, 15, 17, 19, 22, 26, 29, 32, 36, 38, 42], 18: [6, 11, 16, 18, 22, 25, 28, 29, 33, 34, 36], 19: [0, 3, 5, 7, 12, 15, 18, 23, 27, 30], 20: [2, 4, 8, 11, 13, 16, 18, 20, 22, 24, 26, 30, 36], 21: [3, 5, 6, 11, 16, 18, 20, 23, 27, 30, 35, 39], 22: [0, 7, 11, 14, 16, 18, 20, 23, 25, 26, 27, 28, 30], 23: [0, 3, 5, 7, 9, 14, 16, 18, 21, 22, 25, 29], 24: [0, 5, 7, 10, 17, 18, 19, 23, 25, 28, 30], 25: [3, 7, 12, 15, 18, 19, 22, 23, 28, 34, 39], 26: [0, 2, 4, 6, 7, 11, 13, 15, 17, 18, 19], 27: [2, 11, 13, 16, 18, 20, 22, 25, 30, 36, 41], 28: [14, 16, 18, 20, 26, 28, 34, 35, 37, 41, 46], 29: [1, 4, 5, 10, 11, 13, 16, 20, 22, 23, 29, 31, 33], 30: [0, 4, 5, 7, 10, 16, 17, 18, 20, 23, 26], 31: [0, 2, 3, 4, 6, 7, 9, 11, 12, 14, 15, 16, 19], 32: [6, 8, 10, 13, 15, 18, 20, 24, 28, 33, 35, 40], 33: [2, 5, 10, 14, 18, 21, 25, 30, 35, 39, 44], 34: [2, 4, 11, 13, 15, 16, 18, 21, 25, 30, 35, 39, 44], 35: [0, 1, 3, 5, 7, 8, 9, 12, 14, 16, 18, 21, 23, 23], 36: [0, 1, 3, 5, 6, 8, 11, 13, 15, 17, 18, 19, 20], 37: [0, 1, 2, 4, 6, 8, 9, 11, 13, 17, 18, 19], 38: [0, 1, 3, 4, 5, 8, 10, 11, 13, 14, 17, 21, 23, 34], 39: [2, 5, 7, 10, 11, 13, 15, 16, 17, 19, 35, 45, 50, 52], 40: [0, 2, 3, 3, 5, 6, 7, 9, 10, 12, 14, 16, 19, 21], 41: [0, 2, 4, 6, 9, 13, 19, 20, 21, 24], 42: [0, 1, 4, 5, 6, 8, 10, 12, 14, 18, 20, 24, 28], 43: [0, 3, 4, 5, 10, 13, 15, 17, 19, 23, 27], 44: [1, 3, 5, 7, 13, 15, 17, 18, 21, 25], 45: [3, 6, 8, 12, 17, 18, 19, 25, 28, 32, 40, 43, 48], 46: [0, 1, 2, 4, 6, 8, 10, 12, 14, 16, 17, 18, 20], 47: [5, 6, 9, 11, 12, 13, 15, 18, 20, 23, 27, 33, 45, 55], 48: [0, 9, 10, 11, 15, 16, 17, 18, 27, 30, 33, 46, 49, 50, 52, 54], 49: [4, 5, 6, 7, 8, 10, 12, 15, 16, 17], 50: [0, 3, 6, 10, 14, 16, 18, 22], 51: [0, 2, 5, 8, 12, 14, 15, 16, 17, 18, 24], 52: [2, 4, 7, 10, 13, 14, 16, 17, 18, 19, 20], 53: [0, 1, 2, 3, 4, 6, 8, 10, 11, 12, 13, 15, 18], 54: [0, 2, 4, 6, 9, 10, 11, 12, 13, 16, 17, 18, 19], 55: [4, 5, 6, 8, 12, 14, 22, 23], 56: [1, 2, 3, 4, 6, 10, 12, 15], 57: [0, 5, 6, 7, 12, 16, 17, 18, 23, 25], 58: [0, 1, 2, 3, 4, 5, 6, 10, 13, 15, 17], 59: [2, 2, 3, 4, 6, 7, 12, 14, 16], 60: [2, 4, 5, 6, 7, 8, 10, 11, 12, 17, 19, 20], 61: [4, 6, 7, 10, 15, 17, 18, 19, 25, 26, 29, 30, 32], 62: [3, 15, 16, 18, 30, 35, 38, 41, 45, 47, 53, 54], 63: [0, 2, 4, 8, 9, 18, 20, 22, 25, 33], 64: [1, 3, 4, 10, 15, 19], 65: [2, 2, 3, 3, 4, 6, 6, 7, 7, 8, 9, 10, 11, 12, 13], 66: [0, 2, 2, 3, 4, 6, 6, 7, 8, 9, 10, 11], 67: [4, 14, 17, 21, 23, 26, 28, 30, 33, 39], 68: [0, 3, 4, 9, 10, 10, 11, 12, 13, 14], 69: [0, 2, 3, 4, 5, 6, 7, 9, 10, 11, 13], 70: [0, 1, 2, 3, 5, 6, 7, 8, 9, 12, 14], 71: [0, 10, 18, 22, 23, 24, 27, 35, 40, 42, 43, 44, 45], 72: [2, 7, 11, 13, 14, 17, 19, 21, 25, 27, 29, 34, 41, 45], 73: [0, 1, 2, 3, 4, 5, 6, 7, 8, 9, 11, 12, 13, 14, 15, 16], 74: [0, 1, 2, 3, 4, 5, 6, 7, 8, 9, 10, 11, 12, 13, 14, 15], 75: [0, 1, 2, 3, 5, 6, 7, 8, 10, 11], 76: [0, 1, 2, 3, 4, 5, 6, 7, 8, 9, 10, 11, 12, 13, 14, 15, 16, 17], 77: [0, 1, 2, 3, 4, 6, 7, 8, 9, 10, 11, 12, 13, 14, 15, 16], 78: [0, 1, 2, 3, 4, 5, 6, 7, 8, 9, 10, 11, 12, 13, 14, 15], 79: [0, 1, 2, 3, 4, 5, 6, 7, 8, 9, 10, 11, 12, 13], 80: [0, 1, 2, 3, 4, 5, 6, 7, 8, 9, 10, 12, 13, 14], 81: [0, 1, 2, 3, 4, 5, 6, 7, 8, 10, 11, 12], 82: [0, 3, 16, 18, 20, 21, 22, 23, 25, 27, 31]}\n"
          ]
        }
      ],
      "source": [
        "\n",
        "\n",
        "#Seprating the data into training and testing data\n",
        "\n",
        "#Each ID has a number of image, a distribution and a mean age\n",
        "\n",
        "#We need to separate these samples without disturbing the distribution of the data\n",
        "\n",
        "id_ages = {}\n",
        "for id in np.unique(z_data):\n",
        "    id_ages[id] = y_data[z_data == id].tolist()\n",
        "\n",
        "print(id_ages)\n",
        "\n"
      ]
    },
    {
      "cell_type": "code",
      "execution_count": 38,
      "metadata": {},
      "outputs": [
        {
          "name": "stdout",
          "output_type": "stream",
          "text": [
            "Training Set\n",
            "    ID                                               Ages\n",
            "1    2  [3, 4, 5, 7, 12, 15, 16, 18, 20, 21, 23, 26, 2...\n",
            "2    3   [18, 20, 23, 25, 35, 38, 47, 49, 51, 58, 60, 61]\n",
            "3    4   [19, 21, 26, 28, 30, 37, 40, 48, 51, 53, 62, 63]\n",
            "6    7                [1, 18, 22, 23, 26, 37, 38, 39, 45]\n",
            "8    9    [0, 1, 3, 5, 9, 11, 13, 14, 16, 16, 18, 22, 22]\n",
            "11  12  [4, 7, 12, 14, 18, 21, 23, 24, 25, 26, 27, 30,...\n",
            "14  15      [0, 1, 3, 4, 5, 7, 9, 10, 12, 14, 15, 17, 19]\n",
            "15  16     [1, 3, 4, 5, 7, 8, 10, 12, 14, 16, 17, 18, 19]\n",
            "17  18        [6, 11, 16, 18, 22, 25, 28, 29, 33, 34, 36]\n",
            "20  21      [3, 5, 6, 11, 16, 18, 20, 23, 27, 30, 35, 39]\n",
            "21  22  [0, 7, 11, 14, 16, 18, 20, 23, 25, 26, 27, 28,...\n",
            "23  24          [0, 5, 7, 10, 17, 18, 19, 23, 25, 28, 30]\n",
            "24  25         [3, 7, 12, 15, 18, 19, 22, 23, 28, 34, 39]\n",
            "26  27        [2, 11, 13, 16, 18, 20, 22, 25, 30, 36, 41]\n",
            "27  28       [14, 16, 18, 20, 26, 28, 34, 35, 37, 41, 46]\n",
            "29  30           [0, 4, 5, 7, 10, 16, 17, 18, 20, 23, 26]\n",
            "32  33         [2, 5, 10, 14, 18, 21, 25, 30, 35, 39, 44]\n",
            "36  37          [0, 1, 2, 4, 6, 8, 9, 11, 13, 17, 18, 19]\n",
            "37  38  [0, 1, 3, 4, 5, 8, 10, 11, 13, 14, 17, 21, 23,...\n",
            "38  39  [2, 5, 7, 10, 11, 13, 15, 16, 17, 19, 35, 45, ...\n",
            "41  42     [0, 1, 4, 5, 6, 8, 10, 12, 14, 18, 20, 24, 28]\n",
            "43  44               [1, 3, 5, 7, 13, 15, 17, 18, 21, 25]\n",
            "46  47  [5, 6, 9, 11, 12, 13, 15, 18, 20, 23, 27, 33, ...\n",
            "48  49                [4, 5, 6, 7, 8, 10, 12, 15, 16, 17]\n",
            "50  51           [0, 2, 5, 8, 12, 14, 15, 16, 17, 18, 24]\n",
            "51  52          [2, 4, 7, 10, 13, 14, 16, 17, 18, 19, 20]\n",
            "52  53      [0, 1, 2, 3, 4, 6, 8, 10, 11, 12, 13, 15, 18]\n",
            "57  58              [0, 1, 2, 3, 4, 5, 6, 10, 13, 15, 17]\n",
            "59  60         [2, 4, 5, 6, 7, 8, 10, 11, 12, 17, 19, 20]\n",
            "60  61  [4, 6, 7, 10, 15, 17, 18, 19, 25, 26, 29, 30, 32]\n",
            "63  64                              [1, 3, 4, 10, 15, 19]\n",
            "64  65  [2, 2, 3, 3, 4, 6, 6, 7, 7, 8, 9, 10, 11, 12, 13]\n",
            "65  66             [0, 2, 2, 3, 4, 6, 6, 7, 8, 9, 10, 11]\n",
            "70  71  [0, 10, 18, 22, 23, 24, 27, 35, 40, 42, 43, 44...\n",
            "71  72  [2, 7, 11, 13, 14, 17, 19, 21, 25, 27, 29, 34,...\n",
            "72  73  [0, 1, 2, 3, 4, 5, 6, 7, 8, 9, 11, 12, 13, 14,...\n",
            "73  74  [0, 1, 2, 3, 4, 5, 6, 7, 8, 9, 10, 11, 12, 13,...\n",
            "74  75                   [0, 1, 2, 3, 5, 6, 7, 8, 10, 11]\n",
            "76  77  [0, 1, 2, 3, 4, 6, 7, 8, 9, 10, 11, 12, 13, 14...\n",
            "77  78  [0, 1, 2, 3, 4, 5, 6, 7, 8, 9, 10, 11, 12, 13,...\n",
            "80  81            [0, 1, 2, 3, 4, 5, 6, 7, 8, 10, 11, 12]\n",
            "\n",
            "Training Distribution\n",
            "0     0.037328\n",
            "1     0.033399\n",
            "2     0.039293\n",
            "3     0.039293\n",
            "4     0.043222\n",
            "5     0.043222\n",
            "6     0.039293\n",
            "7     0.047151\n",
            "8     0.031434\n",
            "9     0.019646\n",
            "10    0.045187\n",
            "11    0.039293\n",
            "12    0.033399\n",
            "13    0.031434\n",
            "14    0.031434\n",
            "15    0.031434\n",
            "16    0.031434\n",
            "17    0.029470\n",
            "18    0.047151\n",
            "19    0.023576\n",
            "20    0.021611\n",
            "21    0.013752\n",
            "22    0.013752\n",
            "23    0.023576\n",
            "24    0.007859\n",
            "25    0.019646\n",
            "26    0.015717\n",
            "27    0.011788\n",
            "28    0.013752\n",
            "29    0.007859\n",
            "30    0.015717\n",
            "31    0.001965\n",
            "32    0.003929\n",
            "33    0.003929\n",
            "34    0.011788\n",
            "35    0.011788\n",
            "36    0.007859\n",
            "37    0.005894\n",
            "38    0.005894\n",
            "39    0.007859\n",
            "40    0.003929\n",
            "41    0.005894\n",
            "42    0.001965\n",
            "43    0.001965\n",
            "44    0.003929\n",
            "45    0.009823\n",
            "46    0.001965\n",
            "47    0.001965\n",
            "48    0.001965\n",
            "49    0.001965\n",
            "50    0.001965\n",
            "51    0.003929\n",
            "52    0.001965\n",
            "53    0.001965\n",
            "55    0.001965\n",
            "58    0.001965\n",
            "60    0.001965\n",
            "61    0.001965\n",
            "62    0.001965\n",
            "63    0.001965\n",
            "Name: proportion, dtype: float64\n",
            "\n",
            "Validation Set\n",
            "    ID                                               Ages\n",
            "0    1  [2, 5, 8, 10, 14, 16, 18, 19, 22, 28, 29, 33, ...\n",
            "5    6   [24, 28, 31, 36, 40, 42, 46, 51, 55, 61, 67, 69]\n",
            "9   10          [1, 4, 5, 6, 7, 7, 9, 10, 12, 15, 16, 18]\n",
            "16  17  [5, 7, 12, 15, 17, 19, 22, 26, 29, 32, 36, 38,...\n",
            "19  20  [2, 4, 8, 11, 13, 16, 18, 20, 22, 24, 26, 30, 36]\n",
            "22  23        [0, 3, 5, 7, 9, 14, 16, 18, 21, 22, 25, 29]\n",
            "25  26            [0, 2, 4, 6, 7, 11, 13, 15, 17, 18, 19]\n",
            "28  29  [1, 4, 5, 10, 11, 13, 16, 20, 22, 23, 29, 31, 33]\n",
            "30  31      [0, 2, 3, 4, 6, 7, 9, 11, 12, 14, 15, 16, 19]\n",
            "31  32     [6, 8, 10, 13, 15, 18, 20, 24, 28, 33, 35, 40]\n",
            "33  34  [2, 4, 11, 13, 15, 16, 18, 21, 25, 30, 35, 39,...\n",
            "44  45  [3, 6, 8, 12, 17, 18, 19, 25, 28, 32, 40, 43, 48]\n",
            "47  48  [0, 9, 10, 11, 15, 16, 17, 18, 27, 30, 33, 46,...\n",
            "49  50                      [0, 3, 6, 10, 14, 16, 18, 22]\n",
            "53  54    [0, 2, 4, 6, 9, 10, 11, 12, 13, 16, 17, 18, 19]\n",
            "54  55                       [4, 5, 6, 8, 12, 14, 22, 23]\n",
            "55  56                        [1, 2, 3, 4, 6, 10, 12, 15]\n",
            "56  57               [0, 5, 6, 7, 12, 16, 17, 18, 23, 25]\n",
            "61  62    [3, 15, 16, 18, 30, 35, 38, 41, 45, 47, 53, 54]\n",
            "67  68               [0, 3, 4, 9, 10, 10, 11, 12, 13, 14]\n",
            "69  70                [0, 1, 2, 3, 5, 6, 7, 8, 9, 12, 14]\n",
            "78  79     [0, 1, 2, 3, 4, 5, 6, 7, 8, 9, 10, 11, 12, 13]\n",
            "79  80     [0, 1, 2, 3, 4, 5, 6, 7, 8, 9, 10, 12, 13, 14]\n",
            "81  82         [0, 3, 16, 18, 20, 21, 22, 23, 25, 27, 31]\n",
            "\n",
            "Validation Distribution\n",
            "0     0.041812\n",
            "1     0.020906\n",
            "2     0.034843\n",
            "3     0.038328\n",
            "4     0.041812\n",
            "5     0.034843\n",
            "6     0.045296\n",
            "7     0.034843\n",
            "8     0.027875\n",
            "9     0.031359\n",
            "10    0.041812\n",
            "11    0.031359\n",
            "12    0.041812\n",
            "13    0.031359\n",
            "14    0.027875\n",
            "15    0.031359\n",
            "16    0.045296\n",
            "17    0.020906\n",
            "18    0.048780\n",
            "19    0.020906\n",
            "20    0.013937\n",
            "21    0.010453\n",
            "22    0.027875\n",
            "23    0.013937\n",
            "24    0.010453\n",
            "25    0.017422\n",
            "26    0.006969\n",
            "27    0.006969\n",
            "28    0.013937\n",
            "29    0.013937\n",
            "30    0.013937\n",
            "31    0.010453\n",
            "32    0.006969\n",
            "33    0.013937\n",
            "35    0.010453\n",
            "36    0.010453\n",
            "38    0.006969\n",
            "39    0.003484\n",
            "40    0.013937\n",
            "41    0.003484\n",
            "42    0.006969\n",
            "43    0.010453\n",
            "44    0.003484\n",
            "45    0.003484\n",
            "46    0.006969\n",
            "47    0.003484\n",
            "48    0.003484\n",
            "49    0.003484\n",
            "50    0.003484\n",
            "51    0.003484\n",
            "52    0.003484\n",
            "53    0.003484\n",
            "54    0.006969\n",
            "55    0.003484\n",
            "61    0.003484\n",
            "67    0.003484\n",
            "69    0.003484\n",
            "Name: proportion, dtype: float64\n",
            "\n",
            "Test Set\n",
            "    ID                                               Ages\n",
            "4    5       [18, 24, 30, 31, 35, 40, 45, 48, 49, 52, 61]\n",
            "7    8  [3, 6, 8, 12, 13, 16, 17, 18, 21, 29, 30, 31, ...\n",
            "10  11  [2, 5, 7, 11, 13, 14, 15, 17, 20, 27, 30, 34, ...\n",
            "12  13     [0, 8, 16, 18, 19, 21, 23, 25, 30, 34, 41, 44]\n",
            "13  14               [12, 14, 16, 18, 22, 30, 36, 40, 42]\n",
            "18  19               [0, 3, 5, 7, 12, 15, 18, 23, 27, 30]\n",
            "34  35  [0, 1, 3, 5, 7, 8, 9, 12, 14, 16, 18, 21, 23, 23]\n",
            "35  36     [0, 1, 3, 5, 6, 8, 11, 13, 15, 17, 18, 19, 20]\n",
            "39  40   [0, 2, 3, 3, 5, 6, 7, 9, 10, 12, 14, 16, 19, 21]\n",
            "40  41                [0, 2, 4, 6, 9, 13, 19, 20, 21, 24]\n",
            "42  43           [0, 3, 4, 5, 10, 13, 15, 17, 19, 23, 27]\n",
            "45  46     [0, 1, 2, 4, 6, 8, 10, 12, 14, 16, 17, 18, 20]\n",
            "58  59                     [2, 2, 3, 4, 6, 7, 12, 14, 16]\n",
            "62  63                [0, 2, 4, 8, 9, 18, 20, 22, 25, 33]\n",
            "66  67            [4, 14, 17, 21, 23, 26, 28, 30, 33, 39]\n",
            "68  69               [0, 2, 3, 4, 5, 6, 7, 9, 10, 11, 13]\n",
            "75  76  [0, 1, 2, 3, 4, 5, 6, 7, 8, 9, 10, 11, 12, 13,...\n",
            "\n",
            "Test Distribution\n",
            "0     0.053922\n",
            "1     0.019608\n",
            "2     0.044118\n",
            "3     0.049020\n",
            "4     0.039216\n",
            "5     0.039216\n",
            "6     0.039216\n",
            "7     0.034314\n",
            "8     0.034314\n",
            "9     0.029412\n",
            "10    0.024510\n",
            "11    0.019608\n",
            "12    0.039216\n",
            "13    0.034314\n",
            "14    0.039216\n",
            "15    0.024510\n",
            "16    0.039216\n",
            "17    0.034314\n",
            "18    0.044118\n",
            "19    0.024510\n",
            "20    0.024510\n",
            "21    0.029412\n",
            "22    0.009804\n",
            "23    0.029412\n",
            "24    0.009804\n",
            "25    0.009804\n",
            "26    0.004902\n",
            "27    0.014706\n",
            "28    0.004902\n",
            "29    0.004902\n",
            "30    0.034314\n",
            "31    0.009804\n",
            "33    0.014706\n",
            "34    0.009804\n",
            "35    0.009804\n",
            "36    0.004902\n",
            "39    0.004902\n",
            "40    0.014706\n",
            "41    0.009804\n",
            "42    0.009804\n",
            "44    0.004902\n",
            "45    0.004902\n",
            "48    0.004902\n",
            "49    0.004902\n",
            "52    0.004902\n",
            "61    0.004902\n",
            "Name: proportion, dtype: float64\n",
            "\n",
            "Overall Distribution\n",
            "0     0.042\n",
            "1     0.027\n",
            "2     0.039\n",
            "3     0.041\n",
            "4     0.042\n",
            "      ...  \n",
            "61    0.003\n",
            "62    0.001\n",
            "63    0.001\n",
            "67    0.001\n",
            "69    0.001\n",
            "Name: proportion, Length: 63, dtype: float64\n"
          ]
        }
      ],
      "source": [
        "from sklearn.model_selection import train_test_split\n",
        "\n",
        "# Create a DataFrame from the dictionary\n",
        "data = {'ID': list(id_ages.keys()), 'Ages': list(id_ages.values())}\n",
        "df = pd.DataFrame(data)\n",
        "\n",
        "# Flatten the age lists to compute overall age distribution\n",
        "all_ages = [age for sublist in df['Ages'] for age in sublist]\n",
        "\n",
        "# Calculate the distribution of ages\n",
        "age_distribution = pd.Series(all_ages).value_counts(normalize=True).sort_index()\n",
        "\n",
        "# Calculate age distribution for each ID\n",
        "def calculate_id_distribution(df):\n",
        "    age_distributions = {}\n",
        "    for index, row in df.iterrows():\n",
        "        age_distributions[row['ID']] = pd.Series(row['Ages']).value_counts(normalize=True).sort_index()\n",
        "    return pd.DataFrame(age_distributions).fillna(0).T\n",
        "\n",
        "# Get the age distribution for each ID\n",
        "id_distributions = calculate_id_distribution(df)\n",
        "\n",
        "# First, split the IDs into train and temp (which will be split into validation and test)\n",
        "train_ids, temp_ids = train_test_split(id_distributions.index, test_size=0.5, random_state=42)\n",
        "\n",
        "# Then, split the temp set into validation and test\n",
        "val_ids, test_ids = train_test_split(temp_ids, test_size=0.4, random_state=42)\n",
        "\n",
        "# Create the final train, validation, and test DataFrames\n",
        "train_df = df[df['ID'].isin(train_ids)]\n",
        "val_df = df[df['ID'].isin(val_ids)]\n",
        "test_df = df[df['ID'].isin(test_ids)]\n",
        "\n",
        "# Function to calculate age distribution for a subset of data\n",
        "def calculate_distribution(subset):\n",
        "    subset_ages = [age for sublist in subset['Ages'] for age in sublist]\n",
        "    return pd.Series(subset_ages).value_counts(normalize=True).sort_index()\n",
        "\n",
        "# Ensure that the split preserves the distribution\n",
        "train_dist = calculate_distribution(train_df)\n",
        "val_dist = calculate_distribution(val_df)\n",
        "test_dist = calculate_distribution(test_df)\n",
        "\n",
        "# Output the results\n",
        "print(\"Training Set\")\n",
        "print(train_df[['ID', 'Ages']])\n",
        "print(\"\\nTraining Distribution\")\n",
        "print(train_dist)\n",
        "\n",
        "print(\"\\nValidation Set\")\n",
        "print(val_df[['ID', 'Ages']])\n",
        "print(\"\\nValidation Distribution\")\n",
        "print(val_dist)\n",
        "\n",
        "print(\"\\nTest Set\")\n",
        "print(test_df[['ID', 'Ages']])\n",
        "print(\"\\nTest Distribution\")\n",
        "print(test_dist)\n",
        "\n",
        "print(\"\\nOverall Distribution\")\n",
        "print(age_distribution)"
      ]
    },
    {
      "cell_type": "code",
      "execution_count": 39,
      "metadata": {},
      "outputs": [
        {
          "name": "stdout",
          "output_type": "stream",
          "text": [
            "The IDs for the training set are:\n",
            "Index([ 4, 18, 39,  9, 65,  7, 37, 74, 66, 51, 47, 81, 16, 28, 42, 27, 49, 25,\n",
            "       44, 73, 58, 12, 33, 78, 60, 64, 71, 38, 30,  2, 53, 22,  3, 24, 77, 75,\n",
            "       21, 61, 72, 15, 52],\n",
            "      dtype='int64')\n",
            "The IDs for the validation set are:\n",
            "Index([20, 55, 31, 56, 29, 34,  1, 62, 79, 23, 80, 26, 32, 68, 48, 82, 50,  6,\n",
            "       57, 10, 54, 70, 17, 45],\n",
            "      dtype='int64')\n",
            "The IDs for the test set are:\n",
            "Index([35, 36, 5, 67, 19, 59, 41, 14, 40, 11, 43, 69, 63, 13, 46, 8, 76], dtype='int64')\n"
          ]
        }
      ],
      "source": [
        "print(\"The IDs for the training set are:\")\n",
        "print(train_ids)\n",
        "\n",
        "print(\"The IDs for the validation set are:\")\n",
        "print(val_ids)\n",
        "\n",
        "print(\"The IDs for the test set are:\")\n",
        "print(test_ids)\n",
        "\n",
        "X_train = X_data[np.isin(z_data, train_ids)]\n",
        "y_train = y_data[np.isin(z_data, train_ids)]\n",
        "z_train = z_data[np.isin(z_data, train_ids)]\n",
        "\n",
        "X_val = X_data[np.isin(z_data, val_ids)]\n",
        "y_val = y_data[np.isin(z_data, val_ids)]\n",
        "z_val = z_data[np.isin(z_data, val_ids)]\n",
        "\n",
        "X_test = X_data[np.isin(z_data, test_ids)]\n",
        "y_test = y_data[np.isin(z_data, test_ids)]\n",
        "z_test = z_data[np.isin(z_data, test_ids)]\n"
      ]
    },
    {
      "cell_type": "code",
      "execution_count": 45,
      "metadata": {},
      "outputs": [
        {
          "name": "stdout",
          "output_type": "stream",
          "text": [
            "The percentage of Train to data is :  50.9\n",
            "The percentage of Validation to data is :  28.7\n",
            "The percentage of Test to data is :  20.4\n",
            "\n",
            "Training shape: (509, 128, 104, 3)\n",
            "Validation shape (287, 128, 104, 3)\n",
            "Test Shape (204, 128, 104, 3)\n"
          ]
        }
      ],
      "source": [
        "\n",
        "print(\"The percentage of Train to data is : \", (X_train.shape[0]/X_data.shape[0])*100)\n",
        "print(\"The percentage of Validation to data is : \", (X_val.shape[0]/X_data.shape[0])*100)\n",
        "print(\"The percentage of Test to data is : \", (X_test.shape[0]/X_data.shape[0])*100)\n",
        "\n",
        "print(\"\\nTraining shape:\", X_train.shape)\n",
        "\n",
        "print(\"Validation shape\", X_val.shape)\n",
        "\n",
        "print(\"Test Shape\",X_test.shape)"
      ]
    },
    {
      "cell_type": "code",
      "execution_count": 54,
      "metadata": {},
      "outputs": [],
      "source": [
        "D_train = z_train\n",
        "D_valid = z_val\n",
        "D_test = z_test\n",
        "\n"
      ]
    },
    {
      "cell_type": "markdown",
      "metadata": {
        "id": "pt7wxtSa_xeY"
      },
      "source": [
        "3. Générez un fichier *fg-net-nxm-split.csv* avec les données nettoyées et normalisées, où $n$ et $m$ représentent la résolution finale des images. En fait, vous devez prendre le fichier *fg-net-nxm.csv* et ajouter, l'usage de chaque image (similaire à FER2013)\n",
        "   - Format du fichier: subject,age,pixels,use\n",
        "      * sujet: integer\n",
        "      * âge: integer\n",
        "      * pixels: integer [0, 255]\n",
        "      * use: nominal [training, validation, test]<br><br>"
      ]
    },
    {
      "cell_type": "code",
      "execution_count": 46,
      "metadata": {},
      "outputs": [],
      "source": [
        "data = []\n",
        "for i in range(len(X_train)):\n",
        "    img = X_train[i]\n",
        " \n",
        "    ch_ = img.flatten()\n",
        "    # Flatten the image channels\n",
        "    ch_str = ' '.join(map(str, ch_))\n",
        "\n",
        "    # Combine id, age, and flattened pixel data\n",
        "    row = [z_train[i], y_train[i] ,ch_str, \"training\"]\n",
        "    data.append(row)\n",
        "\n",
        "for i in range(len(X_val)):\n",
        "    img = X_val[i]\n",
        " \n",
        "    ch_ = img.flatten()\n",
        "    # Flatten the image channels\n",
        "    ch_str = ' '.join(map(str, ch_))\n",
        "\n",
        "    # Combine id, age, and flattened pixel data\n",
        "    row = [z_val[i], y_val[i] ,ch_str, \"validation\"]\n",
        "    data.append(row)\n",
        "\n",
        "for i in range(len(X_test)):\n",
        "    img = X_test[i]\n",
        " \n",
        "    ch_ = img.flatten()\n",
        "    # Flatten the image channels\n",
        "    ch_str = ' '.join(map(str, ch_))\n",
        "\n",
        "    # Combine id, age, and flattened pixel data\n",
        "    row = [z_test[i], y_test[i] ,ch_str, \"test\"]\n",
        "    data.append(row)\n",
        "\n",
        "\n",
        "\n",
        "\n",
        "# Create a DataFrame\n",
        "columns = ['id', 'age', 'pixels', 'usage']\n",
        "df = pd.DataFrame(data, columns=columns)\n",
        "\n",
        "n = 128\n",
        "m = 104\n",
        "# Save to CSV\n",
        "df.to_csv(f\"content/fg-net-{n}x{m}-split.csv\", index=False)"
      ]
    },
    {
      "cell_type": "markdown",
      "metadata": {
        "id": "LgtbiC2t9dRU"
      },
      "source": [
        "## 1b: Architecture CNN Régression FG-NET. (20%)\n",
        "Point de départ: fichier *fg-net-nxm.csv* or *D_train*, *D_val*, *D_test*"
      ]
    },
    {
      "cell_type": "markdown",
      "metadata": {
        "id": "LGMTsJFI9dRV"
      },
      "source": [
        "1. Générer des partitions de données pour entraîner le CNN:\n",
        "    - Ensemble d'entraînement: *X_train* et *y_train*\n",
        "    - Ensemble de validation : *X_valid* et *y_val*\n",
        "    - Ensemble de test       : *X_test* et  *y_test* <br><br>\n",
        "    \n"
      ]
    },
    {
      "cell_type": "code",
      "execution_count": 57,
      "metadata": {
        "id": "kbU9MMr0AFdM"
      },
      "outputs": [
        {
          "name": "stdout",
          "output_type": "stream",
          "text": [
            "X_train shape: (509, 128, 104, 3) y_train shape: (509,) z_train shape: (509,)\n",
            "X_val shape: (287, 128, 104, 3) y_val shape: (287,) z_val shape: (287,)\n",
            "X_test shape: (204, 128, 104, 3) y_test shape: (204,) z_test shape: (204,)\n"
          ]
        }
      ],
      "source": [
        "print('X_train shape:', X_train.shape, 'y_train shape:', y_train.shape,     'z_train shape:', z_train.shape)\n",
        "print('X_val shape:', X_val.shape,   'y_val shape:', y_val.shape, 'z_val shape:', z_val.shape)\n",
        "print('X_test shape:', X_test.shape, 'y_test shape:', y_test.shape, 'z_test shape:', z_test.shape)\n"
      ]
    },
    {
      "cell_type": "markdown",
      "metadata": {
        "id": "JdgtzbJW9dRV"
      },
      "source": [
        "2. Utiliser Pytorch ou [Tensorflow et Keras](https://www.tensorflow.org/tutorials/keras/regression) pour construire un réseau de neurones convolutifs pour extraire les primitives et faire la regression (end-to-end learning); Proposer une architecture appropriée pour FG-NET : nombre de couches convolutifs (CLs), nombre et dimension des filtres de chaque couche (kernel size), pas (stride), nombre et dimension des couches entièrement connectées (FC), fonctions d'activation de chaque couche, couches supplémentaires comme normalisation de batch, dropout, etc."
      ]
    },
    {
      "cell_type": "code",
      "execution_count": null,
      "metadata": {
        "id": "c23pnc4BCSt0"
      },
      "outputs": [],
      "source": []
    },
    {
      "cell_type": "markdown",
      "metadata": {
        "id": "ybrBi6huCS8C"
      },
      "source": [
        "3. Entraîner et optimiser les paramètres du réseau (modèle 1).\n"
      ]
    },
    {
      "cell_type": "code",
      "execution_count": null,
      "metadata": {
        "id": "FIJcrUCkCpup"
      },
      "outputs": [],
      "source": []
    },
    {
      "cell_type": "markdown",
      "metadata": {
        "id": "3fF3TpusCqRC"
      },
      "source": [
        "5. Entraîner un autre modèle avec \"data augmentation\" pour améliorer la généralisation (modèle 2).\n",
        "\n"
      ]
    },
    {
      "cell_type": "code",
      "execution_count": null,
      "metadata": {
        "id": "8RT88J1zCs_Z"
      },
      "outputs": [],
      "source": []
    },
    {
      "cell_type": "markdown",
      "metadata": {
        "id": "HO0EMN6-CuFo"
      },
      "source": [
        "6. Faire une brève analyse des résultats et présenter vos considérations et conclusions sur les réseaux de neurones de convolution. Comparer avec les résultats obtenus avec les CNNs avec ceux obtenus dans les laboratoires précédents concernant des modèles de régression (TPs 5 et 6).\n",
        "\n"
      ]
    },
    {
      "cell_type": "markdown",
      "metadata": {
        "id": "7lOJaq0zCwOC"
      },
      "source": []
    },
    {
      "cell_type": "markdown",
      "metadata": {
        "id": "e2vOC5-FC12S"
      },
      "source": [
        "| Algorithme            | Paramètres    |  MSE  |  MAE  | ????? |\n",
        "|-----------------------|---------------|-------|-------|-------|\n",
        "| Regr lineaire         |               |94.96  | 4.47  |  4.61%   |\n",
        "| Regr Ridge            | alpha = 0.7   |94.91  | 7.46  |  4.72%   |\n",
        "| KNN                   | k = 4         |235.93 | 10.46 |  8.24%   |\n",
        "| MLP 1                 | 1024:512:1 |8.752 |9.59 | 29.93 %      |\n",
        "| MLP 2                 | 512:128:1      |8.337. |126.47 |    31.48%   |\n",
        "| CNN 1                 | 512:100:100:1 |XXX.XX |XXX.XX |       |\n",
        "| CNN 2 (DA)            | 512:50:1      |XXX.XX |XXX.XX |       |"
      ]
    },
    {
      "cell_type": "markdown",
      "metadata": {
        "id": "50IKjUjA9dRW",
        "tags": []
      },
      "source": [
        "## 1c: Fine-tuning d'un CNN pré-entraîné pour FG-NET. (10%)"
      ]
    },
    {
      "cell_type": "markdown",
      "metadata": {
        "id": "mRFasYUO9dRW"
      },
      "source": [
        "1. Récupérer une architecture CNN pré-entraînée disponible dans Pytorch ou Keras pour faire un “transfert de connaissance (transfer learning). Faire un \"fine-tuning\" du modèle choisi sur FG-NET puis expliquer les modifications/adaptations apportées au modèle pré-entraîné (p. ex., description de couches ajoutées ou enlevées pour faire fonctionner le modèle sur vos données)\n",
        "\n"
      ]
    },
    {
      "cell_type": "code",
      "execution_count": null,
      "metadata": {
        "id": "SwSY82L0B1zj"
      },
      "outputs": [],
      "source": []
    },
    {
      "cell_type": "markdown",
      "metadata": {
        "id": "-XapvDsbB2Hp"
      },
      "source": [
        "2. Faire une brève analyse des résultats et présenter vos considérations et conclusions sur les réseaux de neurones de convolution. Comparer avec les résultats obtenus avec les CNNs avec ceux obtenus dans les laboratoires précédents concernant des modèles de régression (TPs 5 et 6).\n",
        "\n",
        "| Algorithme            | Paramètres    |  MSE  |  MAE  | ????? |\n",
        "|-----------------------|---------------|-------|-------|-------|\n",
        "| Regr lineaire         | XXX.XX        |XXX.XX |XXX.XX |       |\n",
        "| Regr Ridge            | alpha = 0.1   |123.34 | 10.45 |       |\n",
        "| Regr Lasso            | XXX.XX        |XXX.XX |XXX.XX |       |\n",
        "| Regr ElasticNet       | XXX.XX        |XXX.XX |XXX.XX |       |\n",
        "| MLP 1                 | 512:100:100:1 |XXX.XX |XXX.XX |       |\n",
        "| MLP 2                 | 512:50:1      |XXX.XX |XXX.XX |       |\n",
        "| CNN 1                 | 512:100:100:1 |XXX.XX |XXX.XX |       |\n",
        "| CNN 2 (DA)            | 512:50:1      |XXX.XX |XXX.XX |       |\n",
        "| VGG16 (DA)            | 512:50:1      |XXX.XX |XXX.XX |       |"
      ]
    },
    {
      "cell_type": "markdown",
      "metadata": {
        "id": "f6xoHujB9dRW"
      },
      "source": [
        "Votre description ici"
      ]
    },
    {
      "cell_type": "markdown",
      "metadata": {
        "id": "VEjkIFpQ9dRW"
      },
      "source": [
        "# Partie 2 - Apprentissage de représentation et classification avec FER (30%)\n",
        "\n",
        "Point de départ: fichier *fer2013-clean-pre.csv* - images nettoyées et normalisées."
      ]
    },
    {
      "cell_type": "markdown",
      "metadata": {
        "id": "Cg34NTvD9dRW"
      },
      "source": [
        "## 2: Architecture CNN Classification FER2013 (30%)\n"
      ]
    },
    {
      "cell_type": "markdown",
      "metadata": {
        "id": "FAfUdA7H9dRX"
      },
      "source": [
        "###  <font color=blue> À faire: </font>\n",
        "1. Reprenez votre ensemble de données nettoyé et repérez les trois partitions de données: apprentissage, validation et test."
      ]
    },
    {
      "cell_type": "code",
      "execution_count": null,
      "metadata": {
        "id": "261GRHPP9dRX",
        "tags": []
      },
      "outputs": [],
      "source": [
        "# Load data\n",
        "ferData = np.loadtxt( 'fer2013-clean-pre.csv', delimiter=',', dtype=str )\n",
        "\n",
        "# Images d'entraînement\n",
        "Xtrain = <à compléter>\n",
        "ytrain = <à compléter>\n",
        "\n",
        "# Images de validation\n",
        "Xval = <à compléter>\n",
        "yval = <à compléter>\n",
        "\n",
        "# Images de test\n",
        "Xtest = <à compléter>\n",
        "ytest = <à compléter>\n",
        "\n",
        "print(Xtrain.shape, Xval.shape, Xtest.shape)"
      ]
    },
    {
      "cell_type": "markdown",
      "metadata": {
        "id": "7YCM3r9X9dRX"
      },
      "source": [
        "2. Utiliser Pytorch ou [Tensorflow et Keras](https://www.tensorflow.org/tutorials/keras/classification) pour construire un réseau de neurones convolutif (classe) qui vous servira par la suite à apprendre une représentation des images de visage (primitives) et faire la classification (end-to-end learning). Vous pouvez reprendre l'architecture de la partie 1 avec quelques adaptations pour qu'il fonctionne sur ce problème.\n"
      ]
    },
    {
      "cell_type": "code",
      "execution_count": null,
      "metadata": {
        "id": "Z5LrneqwEcoa"
      },
      "outputs": [],
      "source": []
    },
    {
      "cell_type": "markdown",
      "metadata": {
        "id": "WeYxmf8UEdvB"
      },
      "source": [
        "2. Entraîner et optimiser les paramètres du réseau (modèle 1).\n"
      ]
    },
    {
      "cell_type": "code",
      "execution_count": null,
      "metadata": {
        "id": "_U16QFUVEl7Y"
      },
      "outputs": [],
      "source": []
    },
    {
      "cell_type": "markdown",
      "metadata": {
        "id": "GCfSsek5EmS2"
      },
      "source": [
        "3. Entraîner un autre modèle avec \"data augmentation\" pour améliorer la généralisation (modèle 2).\n"
      ]
    },
    {
      "cell_type": "code",
      "execution_count": null,
      "metadata": {
        "id": "4bklovNWEop3"
      },
      "outputs": [],
      "source": []
    },
    {
      "cell_type": "markdown",
      "metadata": {
        "id": "T5x1lCXHEoUf"
      },
      "source": [
        "4. Prenez le modèle le plus performant pour faire la prédiction sur tous les exemples (apprentissage, validation, test) et rapporter les résultats (comme fait dans les TP1 à TP4 et TP6):<br>\n",
        "   3a. Rapport de classification produit avec *<font color=green>from sklearn.metrics import classification_report</font>*<br>\n",
        "   3b. taux de classification correct sur les trois (3) ensembles de données (sous la forme d'un tableau)<br>\n",
        "   3c. matrice de confusion produite avec *<font color=green> from sklearn.metrics import confusion_matrix</font>* pour les résultats sur l'ensemble de tests (matrice 7 $\\times$ 7 - étiquettes $\\times$ prédictions)\n"
      ]
    },
    {
      "cell_type": "code",
      "execution_count": null,
      "metadata": {
        "id": "dP4ZnD_iE0p7"
      },
      "outputs": [],
      "source": []
    },
    {
      "cell_type": "markdown",
      "metadata": {
        "id": "k67_TrJhE0b0"
      },
      "source": [
        "\n",
        "5. Comparez les résultats avec ceux attendus avec le réseau MLP (TP6), les primitives « deep » réduits (TP4), les primitives « deep » (TP3), les primitives globales/locales (TP2) et *template matching* (TP1)\n",
        "\n"
      ]
    },
    {
      "cell_type": "code",
      "execution_count": null,
      "metadata": {
        "id": "xP3GzfW2E5IU"
      },
      "outputs": [],
      "source": []
    },
    {
      "cell_type": "markdown",
      "metadata": {
        "id": "c5oG7p4n9dRY"
      },
      "source": [
        "6. Faire une brève analyse des résultats et présenter vos considérations et conclusions sur la pertinence / advantages / désavantages des réseaux neuronaux."
      ]
    },
    {
      "cell_type": "markdown",
      "metadata": {
        "id": "WsMw_LT6FKv_"
      },
      "source": []
    }
  ],
  "metadata": {
    "colab": {
      "provenance": []
    },
    "kernelspec": {
      "display_name": "Python 3 (ipykernel)",
      "language": "python",
      "name": "python3"
    },
    "language_info": {
      "codemirror_mode": {
        "name": "ipython",
        "version": 3
      },
      "file_extension": ".py",
      "mimetype": "text/x-python",
      "name": "python",
      "nbconvert_exporter": "python",
      "pygments_lexer": "ipython3",
      "version": "3.11.8"
    }
  },
  "nbformat": 4,
  "nbformat_minor": 0
}
