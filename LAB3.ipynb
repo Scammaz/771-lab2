{
  "cells": [
    {
      "cell_type": "markdown",
      "metadata": {
        "id": "HdpMMKxz3OuM"
      },
      "source": [
        "# GTI771 - Apprentissage machine avancé\n",
        "## Département de génie logiciel et des technologies de l’information\n",
        "\n",
        "\n",
        "## Laboratoire 3 - Extraction de primitives « deep »\n",
        "#### <font color=black> Version 2 - Été 2024 </font>\n",
        "\n",
        "##### <font color=grey> Version 1 - Prof. Alessandro L. Koerich.\n",
        "##### Version 2 - Chargé de lab. Arthur Josi"
      ]
    },
    {
      "cell_type": "markdown",
      "metadata": {
        "id": "drz4rknh3OuM"
      },
      "source": [
        "| NOMS                  | CODE PERMANENT                                   |\n",
        "|-----------------------|--------------------------------------------------|\n",
        "| Étudiant1             | Code1                                            |\n",
        "| Étudiant2             | Code2                                            |\n",
        "| Étudiant3             | Code3                                            |"
      ]
    },
    {
      "cell_type": "markdown",
      "metadata": {
        "id": "cwGlCNgl3OuN"
      },
      "source": [
        "## Introduction\n",
        "L'extraction de primitives est un des éléments clés des nombreux pipelines pour l'apprentissage automatique. De nombreuses méthodes reposent sur des algorithmes d'extraction de caractéristiques conçues par les humains comme SIFT, SURF, ORB, ou les descripteurs LBP, LPQ, HOG, etc.\n",
        "\n",
        "Cependant, depuis l'avènement des architectures de réseaux neuronaux convolutifs (CNNs), les CNN sont devenus l'épine dorsale des pipelines de traitement d'images pour une grande variété d'applications, de la classification d'images à la détection, du suivi à la localisation et la reconnaissance d'objets.\n",
        "\n",
        "Dans ce laboratoire, nous allons explorer les performances des CNNs préentraînés lorsqu'ils sont réutilisés comme extracteurs de primitives pour le problème de classification des émotions. Pour ce faire, nous allons examiner les caractéristiques extraites de différentes couches de différents CNNs entraînés avec ImageNet.\n",
        "\n",
        "L’évaluation de ce laboratoire sera basée sur:\n",
        "- l'utilisation correcte des CNNs préentraînés;\n",
        "- la qualité des algorithmes proposés et utilisés;\n",
        "- les réponses aux questions dans ce notebook;\n",
        "- l'organisation de votre code source (SVP, n'oubliez pas de mettre des commentaires dans le code source!)"
      ]
    },
    {
      "cell_type": "markdown",
      "metadata": {
        "id": "WqyBgSUK3OuN"
      },
      "source": [
        "# Modules et bibliotèques python"
      ]
    },
    {
      "cell_type": "markdown",
      "metadata": {
        "id": "1mA5NP9f3OuN"
      },
      "source": [
        "###  <font color=blue> À faire: </font>\n",
        "1. Ajouter les bibliothèques que vous avez utilisées pour compléter ce notebook dans une cellule avec une petite description."
      ]
    },
    {
      "cell_type": "markdown",
      "metadata": {
        "id": "hDnGhr243OuN"
      },
      "source": [
        "### Import de bibliotèques"
      ]
    },
    {
      "cell_type": "code",
      "execution_count": 4,
      "metadata": {
        "id": "ETWV73m83OuN"
      },
      "outputs": [],
      "source": [
        "import numpy as np  # package for scientific computing with Python.\n",
        "import matplotlib.pyplot as plt # 2D plotting library"
      ]
    },
    {
      "cell_type": "markdown",
      "metadata": {
        "id": "_rg35oBG4b7w"
      },
      "source": [
        "2. Ajouter toutes vos fonctions dans la cellule suivante avec une description de celles-ci."
      ]
    },
    {
      "cell_type": "markdown",
      "metadata": {
        "id": "qU8NIl2t3OuN"
      },
      "source": [
        "### Définition des fonctions"
      ]
    },
    {
      "cell_type": "code",
      "execution_count": 6,
      "metadata": {
        "id": "iJQxGd4F3OuO"
      },
      "outputs": [],
      "source": [
        "import numpy as np\n",
        "from sklearn.preprocessing import StandardScaler, MinMaxScaler\n",
        "from sklearn.model_selection import train_test_split\n",
        "import cv2\n",
        "from PIL import Image\n",
        "from matplotlib.cbook import flatten\n",
        "import numpy as np\n",
        "from sklearn.feature_selection import SequentialFeatureSelector\n",
        "from tensorflow.keras.applications.resnet_v2 import ResNet50V2, preprocess_input\n",
        "from tensorflow.keras.models import Model\n",
        "import matplotlib.pyplot as plt\n",
        "import numpy as np\n",
        "import pandas as pd\n",
        "import matplotlib.pyplot as plt\n",
        "import skimage.io\n",
        "\n",
        "\n",
        "def fa():\n",
        "    return 1\n",
        "\n",
        "############################################# Standardizer #############################################\n",
        "\n",
        "def normalize(X) -> np.ndarray:\n",
        "    return X / 255.0\n",
        "\n",
        "def standardize(data: np.ndarray) -> np.ndarray:\n",
        "    scaler = StandardScaler()\n",
        "    data_standardized = scaler.fit_transform(data)\n",
        "    return data_standardized, scaler\n",
        "\n",
        "def min_max_scale(data: np.ndarray) -> np.ndarray:\n",
        "    min_max_scaler = MinMaxScaler(feature_range=(0, 255))\n",
        "    data_scaled = min_max_scaler.fit_transform(data)\n",
        "    return data_scaled, min_max_scaler\n",
        "\n",
        "def processData(Xtrain, Xtest, Xval, is4848:bool = True):\n",
        "    # Normalize the data\n",
        "    #print(\"Normalized Data:\")\n",
        "    #print(Xtrain[0], Xtest[0], Xval[0])\n",
        "    # Flatten the images\n",
        "    Xtrain_flattened = Xtrain.reshape((Xtrain.shape[0], -1))\n",
        "    Xtest_flattened = Xtest.reshape((Xtest.shape[0], -1))\n",
        "    Xval_flattened = Xval.reshape((Xval.shape[0], -1))\n",
        "\n",
        "  # Standardize\n",
        "    Xtrain_standardized, standardizer = standardize(Xtrain_flattened)\n",
        "    Xtest_standardized = standardizer.transform(Xtest_flattened)\n",
        "    Xval_standardized = standardizer.transform(Xval_flattened)\n",
        "\n",
        "    # Min-Max Scale\n",
        "    Xtrain_scaled, minMaxScaler = min_max_scale(Xtrain_standardized)\n",
        "    Xtest_scaled = minMaxScaler.transform(Xtest_standardized)\n",
        "    Xval_scaled = minMaxScaler.transform(Xval_standardized)\n",
        "\n",
        "    # Reshape back to original image shape\n",
        "    if is4848:\n",
        "        Xtrain_processed = Xtrain_scaled.reshape( Xtrain.shape[0], 1, 48, 48 )\n",
        "        Xtest_processed  = Xtest_scaled.reshape( Xtest.shape[0], 1, 48, 48 )\n",
        "        Xval_processed   = Xval_scaled.reshape( Xval.shape[0], 1, 48, 48 )\n",
        "    else:\n",
        "        Xtrain_processed = Xtrain_scaled.reshape( Xtrain.shape[0], -1)\n",
        "        Xtest_processed  = Xtest_scaled.reshape( Xtest.shape[0],-1 )\n",
        "        Xval_processed   = Xval_scaled.reshape( Xval.shape[0],-1 )\n",
        "    #print(\"Processed Data:\")\n",
        "    #print(Xtrain_processed[0], Xtest_processed[0], Xval_processed[0])\n",
        "\n",
        "    return Xtrain_processed, Xtest_processed, Xval_processed\n",
        "\n",
        "\n",
        "\n",
        "def apply3channelNomralisation(data:np.ndarray) -> np.ndarray:\n",
        "\n",
        "    list_features = []\n",
        "    list_pil = []\n",
        "    images_return = []\n",
        "    i = 0\n",
        "\n",
        "    #print(data.shape)\n",
        "    #print(len(data))\n",
        "    \n",
        "    for images in data:\n",
        "        i+=1\n",
        "        if(i % 1000 == 0):\n",
        "            print(\"progress: \", i/ len(data) * 100, \"%\")\n",
        "\n",
        "        image_array, _pil = preprocess_grayscale_image(images.reshape(48, 48))\n",
        "\n",
        "        #print(image_array.shape)\n",
        "        images = image_array.flatten()\n",
        "        images = images.reshape(1, 224, 224, 3)\n",
        "        features = extract_features(images)\n",
        "        list_features.append(features)\n",
        "        list_pil.append(_pil)\n",
        "        images_return.append(images)\n",
        "        #print(images.shape)\n",
        "\n",
        "    data = np.array(images_return).reshape(len(data), 224, 224,3)\n",
        "    \n",
        "    return data, list_pil, list_features\n"
      ]
    },
    {
      "cell_type": "markdown",
      "metadata": {
        "id": "jYHRdLp73OuO"
      },
      "source": [
        "# Partie 1 - Ensemble de données\n",
        "\n",
        "Point de départ: *fer2013-clean.csv* ou *fer2013-clean-pre.csv*"
      ]
    },
    {
      "cell_type": "markdown",
      "metadata": {
        "id": "glHlS3S33OuO"
      },
      "source": [
        "## 1a: Charger le fichier de données nettoyé et normalisé\n",
        "\n",
        "###  <font color=blue> À faire: </font>\n",
        "1. Reprenez votre ensemble de données nettoyé et repérez les trois partitions de données: apprentissage, validation et test."
      ]
    },
    {
      "cell_type": "code",
      "execution_count": 7,
      "metadata": {
        "id": "lZMfYtmH3OuO"
      },
      "outputs": [
        {
          "name": "stdout",
          "output_type": "stream",
          "text": [
            "(28657, 2304) (3582, 2304) (3580, 2304)\n"
          ]
        }
      ],
      "source": [
        "# Load data - Au choix:\n",
        "\n",
        "# ferData = np.loadtxt( 'fer2013-clean.csv', delimiter=',', dtype=str )\n",
        "ferData = np.loadtxt( 'content/fer2013-clean-pre.csv', delimiter=',', dtype=str )\n",
        "\n",
        "training_data = ferData[ferData[:, 2] == 'Training']\n",
        "validation_data = ferData[ferData[:, 2] == 'PublicTest']\n",
        "test_data = ferData[ferData[:, 2] == 'PrivateTest']\n",
        "\n",
        "def transform_str_float(d):\n",
        "    return np.array([np.fromstring(row, sep=' ', dtype=float) for row in d])\n",
        "\n",
        "# Training set\n",
        "Xtrain = transform_str_float(training_data[:, 1])\n",
        "ytrain = np.array(training_data[:,0], dtype=np.float32)\n",
        "\n",
        "# Validation set\n",
        "Xval = transform_str_float(validation_data[:, 1])\n",
        "yval = np.array(validation_data[:,0], dtype=np.float32)\n",
        "\n",
        "# # Test set\n",
        "Xtest = transform_str_float(test_data[:, 1])\n",
        "ytest = np.array(test_data[:,0], dtype=np.float32)\n",
        "\n",
        "print(Xtrain.shape, Xval.shape, Xtest.shape)"
      ]
    },
    {
      "cell_type": "code",
      "execution_count": 8,
      "metadata": {
        "id": "PQHdellQ3OuO"
      },
      "outputs": [
        {
          "name": "stdout",
          "output_type": "stream",
          "text": [
            "(28657, 1, 48, 48) (3582, 1, 48, 48) (3580, 1, 48, 48)\n"
          ]
        }
      ],
      "source": [
        "# reshape to be [samples][channels][width][height]\n",
        "Xtrain = Xtrain.reshape( Xtrain.shape[0], 1, 48, 48 ).astype('uint8')\n",
        "Xtest  = Xtest.reshape( Xtest.shape[0], 1, 48, 48 ).astype('uint8')\n",
        "Xval   = Xval.reshape( Xval.shape[0], 1, 48, 48 ).astype('uint8')\n",
        "\n",
        "print( Xtrain.shape, Xval.shape, Xtest.shape )\n",
        "\n",
        "Xtrain_processed, Xtest_processed, Xval_processed = processData(Xtrain, Xtest, Xval)"
      ]
    },
    {
      "cell_type": "markdown",
      "metadata": {
        "id": "4VE4zTOZ3OuO"
      },
      "source": [
        "# Partie 2: Extraction de primitives « deep »\n",
        "\n",
        "Nous pouvons utiliser des réseaux de neurones convolutionnels (CNN) préentraînés comme extracteurs de caractéristiques. Voir cette [référence](https://www.cim.mcgill.ca/~mrl/pubs/ahollid/crv_2020.pdf) (\"Pre-trained CNNs as Visual Feature Extractors: A Broad Evaluation\") pour vous aider à mieux comprendre quels types de couches peuvent fournir des vecteurs et pour guider le développement de ce TP."
      ]
    },
    {
      "cell_type": "markdown",
      "metadata": {
        "id": "44gGDFAX3OuO",
        "tags": []
      },
      "source": [
        "###  <font color=blue> À faire: </font>\n",
        "1. Choisir une des architectures [CNNs préentraînés disponible dans Keras](https://keras.io/api/applications/) pour l'utiliser comme un extracteur de primitives à boite fermé. Vous pouvez aussi bien utiliser [PyTorch](https://pytorch.org/vision/main/models) loader et travailler avec les modèles, selon vos préférences. <font color=red> VGG16 interdite! </font>\n",
        "\n",
        "- <font color=red> Attention! Les équipes doivent utiliser des architectures (modèles) différentes!</font>\n",
        "- <font color=red> Chaque équipe doit poster un message dans le \"forum TP3\" avec son choix</font>\n",
        "-  <font color=red> Premier arrivé, premier servi! </font><br>\n",
        "\n",
        "2. Étudiez l'architecture choisie pour bien comprendre ses différentes couches et les contraintes pour les images d'entrée. Chaque architecture a ses propres contraintes. Il est alors conseillé de lire attentivement la documentation de l'architecture choisie pour respecter aux exigences du CNN, et cela surtout concernant le format de l'image d'entrée.\n",
        "- résolution des images d'entrée - Les CNNs ont été entraînés avec une certaine résolution. Vous devrez probabnlement redimensionner vos images de visages;\n",
        "- nombre de canaux - Les CNNs exigent une image RGB couleur à l'entrée et que vous avez des données en niveaux de gris. Vous devrez répliquer l'image pour avoir 3 canaux.\n",
        "- normalisation des pixels - Les CNNs peuvent exiger différentes plages de valeurs \\[0,1\\], \\[-1,1\\], \\[0,255\\], etc. <br><br>\n",
        "\n",
        "3. Choisir les couches à partir desquelles vous souhaitez extraire vos vecteurs de primitive. Vous devez tester/évaluer au moins deux (2) couches différentes pour répondre à cette question.  Générer des vecteurs de primitives « deep » pour l'ensemble de données FER (apprentissage, validation et test).\n",
        "- N’oubliez pas de normaliser les vecteurs de primitives (p. ex. \\[0,1\\]). <br><br>\n",
        "\n",
        "4. Utiliser [T-SNE](https://learnopencv.com/t-sne-for-feature-visualization/) ou [UMAP](https://umap-learn.readthedocs.io/en/latest/plotting.html) comme outils de visualisation afin de determiner la qualité des vecteurs de primitives obtenus via l'une, puis l'autre des couches du CNN utilisé. Penser a afficher chaque classe d'une couleur différente, et utiliser une dimension de 2 (n_components = 2). Comparer les résultats obtenu selon la couche de CNN utilisée.\n",
        "\n",
        "5. Utiliser l'algorithme choisi dans la question précédente pour visualisez les vecteurs de primitives obtenu dans le laboratoire 2 et commenter.\n",
        "\n",
        "6. Sauvegardez vos vecteurs de primitives sous la forme d'un fichier 'csv' (p. ex. *fer2013-clean-deepVGG19.csv* ou *fer2013-clean-pre-deepVGG19.csv*). N'oubliez pas d'utiliser toujours la même structure du fichier original *fer2013.csv*. Vous devez nommer vos fichiers de primitive « deep » en référence au CNN utilisé, p. ex., *fer2013-clean-deepVGG19.csv* si vous utilisez VGG19 comme CNN.\n",
        "\n",
        "7. Décrivez brièvement l'architecture du CNN choisi (nombre et type de couches, etc.), contraintes pour utiliser le modèle pré-entraîné (format image, normalisation, etc.), couches évaluées comme sorties de primitives, et les vecteurs de primitives (dimension, type de variable, etc.)\n"
      ]
    },
    {
      "cell_type": "markdown",
      "metadata": {
        "id": "CK2j0QwH3OuO"
      },
      "source": [
        "#### Réponse"
      ]
    },
    {
      "cell_type": "markdown",
      "metadata": {
        "id": "Il81Dhs93OuO"
      },
      "source": [
        "Vos réponses écrites ici."
      ]
    },
    {
      "cell_type": "markdown",
      "metadata": {},
      "source": [
        "#### Definition des fonctions de conversion"
      ]
    },
    {
      "cell_type": "code",
      "execution_count": 9,
      "metadata": {},
      "outputs": [
        {
          "data": {
            "image/png": "[encoded data removed]",
            "text/plain": [
              "<Figure size 640x480 with 1 Axes>"
            ]
          },
          "metadata": {},
          "output_type": "display_data"
        },
        {
          "data": {
            "image/png": "[encoded data removed]",
            "text/plain": [
              "<Figure size 640x480 with 1 Axes>"
            ]
          },
          "metadata": {},
          "output_type": "display_data"
        },
        {
          "name": "stdout",
          "output_type": "stream",
          "text": [
            "(1, 224, 224, 3)\n"
          ]
        }
      ],
      "source": [
        "import cv2\n",
        "from PIL import Image\n",
        "import numpy as np\n",
        "from tensorflow.keras.applications.resnet_v2 import preprocess_input\n",
        "import matplotlib.pyplot as plt\n",
        "\n",
        "def preprocess_grayscale_image(image_preprocess):\n",
        "    \"\"\"\n",
        "    Load a 48x48 grayscale image, upscale it to 224x224, convert it to RGB, and preprocess for ResNet50V2.\n",
        "    \n",
        "    Parameters:\n",
        "    - image_preprocess: np.array, 48x48 grayscale image array.\n",
        "\n",
        "    Returns:\n",
        "    - image_array: np.array, preprocessed image array ready for ResNet50V2.\n",
        "    - image_pil: PIL Image, the upscaled RGB image for visualization.\n",
        "    \"\"\"\n",
        "    # Ensure the image is in numpy array format\n",
        "    if isinstance(image_preprocess, Image.Image):\n",
        "        image_preprocess = np.array(image_preprocess)\n",
        "    \n",
        "    # Upscale the image to 224x224 pixels using cv2\n",
        "    image_upscaled = cv2.resize(image_preprocess, (224, 224), interpolation=cv2.INTER_CUBIC)\n",
        "    \n",
        "    # Convert the upscaled grayscale image to RGB by replicating the grayscale channel\n",
        "    image_rgb = np.stack((image_upscaled,)*3, axis=-1)\n",
        "    \n",
        "    # Convert to uint8\n",
        "    image_rgb = image_rgb.astype(np.uint8)\n",
        "    \n",
        "    # Convert the image to a PIL Image for visualization purposes (optional)\n",
        "    image_pil = Image.fromarray(image_rgb)\n",
        "    \n",
        "    # Preprocess the image array for ResNet50V2\n",
        "    image_array = preprocess_input(image_rgb)\n",
        "    \n",
        "    # Expand dimensions to create a batch of size 1\n",
        "    image_array = np.expand_dims(image_array, axis=0)\n",
        "    \n",
        "    return image_array, image_pil\n",
        "\n",
        "# Example grayscale image array from Xtrain\n",
        "image = Xtrain[0].reshape(48, 48)\n",
        "\n",
        "# Plot the original grayscale image\n",
        "plt.imshow(image, cmap='gray')\n",
        "plt.title('Original Grayscale Image')\n",
        "plt.show()\n",
        "\n",
        "# Preprocess the image\n",
        "image_array, image_pil = preprocess_grayscale_image(image)\n",
        "\n",
        "# Plot the upscaled RGB image\n",
        "plt.imshow(image_pil)\n",
        "plt.title('Upscaled RGB Image')\n",
        "plt.show()\n",
        "\n",
        "print(image_array.shape)\n"
      ]
    },
    {
      "cell_type": "markdown",
      "metadata": {
        "id": "wTnC-oAc3OuO"
      },
      "source": [
        "#### Code"
      ]
    },
    {
      "cell_type": "code",
      "execution_count": 10,
      "metadata": {
        "id": "-_qLzq8C3OuP"
      },
      "outputs": [
        {
          "name": "stdout",
          "output_type": "stream",
          "text": [
            "(1, 224, 224, 3)\n",
            "[-1. -1. -1. ... -1. -1. -1.]\n",
            "Start\n",
            "(1, 48, 48)\n",
            "progress:  100.0 %\n",
            "Done 1\n",
            "(224, 224, 3)\n"
          ]
        }
      ],
      "source": [
        "# Votre code ici\n",
        "import cv2\n",
        "from PIL import Image\n",
        "from matplotlib.cbook import flatten\n",
        "import numpy as np\n",
        "from sklearn.feature_selection import SequentialFeatureSelector\n",
        "from tensorflow.keras.applications.resnet_v2 import ResNet50V2, preprocess_input\n",
        "from tensorflow.keras.models import Model\n",
        "from tensorflow.keras.layers import GlobalAveragePooling2D\n",
        "import matplotlib.pyplot as plt\n",
        "from sklearn.manifold import TSNE\n",
        "import skimage.io\n",
        "import sklearn.datasets\n",
        "import pandas as pd\n",
        "\n",
        "def extract_features(image_array):\n",
        "  \n",
        "    # Create a new model that outputs the features from the desired layer\n",
        "    # Get the features\n",
        "    features = model.predict(image_array, verbose=0)\n",
        "    #print(features.shape)\n",
        "    \n",
        "    return features\n",
        "\n",
        "\n",
        "\n",
        "print(image_array.shape)\n",
        "print(image_array.flatten())\n",
        "\n",
        "\n",
        "# Load ResNet50V2 model without the top layer (include_top=False)\n",
        "base_model = ResNet50V2(weights='imagenet', include_top=False, input_shape=(224, 224, 3))\n",
        "\n",
        "# Choose the layer from which to extract features\n",
        "layer_name = 'conv4_block3_1_conv'\n",
        "\n",
        "# Get the output tensor of the selected layer\n",
        "output_tensor = base_model.get_layer(layer_name).output\n",
        "\n",
        "# Apply global average pooling to reduce dimensionality\n",
        "pooled_output = GlobalAveragePooling2D()(output_tensor)\n",
        "\n",
        "# Build a model that outputs the pooled feature vectors\n",
        "model = Model(inputs=base_model.input, outputs=pooled_output)\n",
        "\n",
        "\n",
        "\n",
        "print(\"Start\")\n",
        "print(Xtrain_processed[0].shape)\n",
        "\n",
        "Xtrain_processed3Channel, train_list_pil, x_train_features = apply3channelNomralisation(Xtrain_processed[:1000])\n",
        "print(\"Done 1\")\n",
        "print(Xtrain_processed3Channel[0].shape)\n",
        "\n",
        "Xtest_processed3Channel, test_list_pil, x_tes_features = apply3channelNomralisation(Xtest_processed[:100])\n",
        "Xval_processed3Channel, val_list_pil , x_val_features = apply3channelNomralisation(Xval_processed[:100])"
      ]
    },
    {
      "cell_type": "markdown",
      "metadata": {},
      "source": [
        "#### Feature extraction\n"
      ]
    },
    {
      "cell_type": "code",
      "execution_count": null,
      "metadata": {},
      "outputs": [],
      "source": [
        "\n",
        "import cv2\n",
        "import numpy as np\n",
        "from tensorflow.keras.applications.resnet_v2 import ResNet50V2, preprocess_input\n",
        "from tensorflow.keras.models import Model\n",
        "from tensorflow.keras.layers import GlobalAveragePooling2D\n",
        "import matplotlib.pyplot as plt\n",
        "from sklearn.manifold import TSNE\n",
        "\n",
        "# Define the feature extraction function\n",
        "def extract_features(image_array, model):\n",
        "    features = model.predict(image_array, verbose=0)\n",
        "    return features\n",
        "\n",
        "# Load ResNet50V2 model without the top layer (include_top=False)\n",
        "base_model = ResNet50V2(weights='imagenet', include_top=False, classes=7, input_shape=(224, 224, 3))\n",
        "\n",
        "# Function to build feature extraction model for a given layer name\n",
        "def build_feature_extraction_model(layer_name):\n",
        "    output_tensor = base_model.get_layer(layer_name).output\n",
        "    pooled_output = GlobalAveragePooling2D()(output_tensor)\n",
        "    #model = Model(inputs=base_model.input, outputs=pooled_output)\n",
        "    model = Model(inputs=base_model.input, outputs=output_tensor)\n",
        "\n",
        "    return model\n",
        "\n",
        "# Example layers to test\n",
        "layer_names = ['conv1_conv', 'conv2_block3_out', 'conv3_block4_out', 'conv4_block6_out', 'conv5_block3_out']\n",
        "\n",
        "# Example image processing function (replace with actual images)\n",
        "\n",
        "# Example usage\n",
        "Xtrain_processed3Channel = Xtrain_processed3Channel[:500]\n",
        "Xtrain_processed = Xtrain_processed[:500]\n",
        "y_train = ytrain[:500]\n",
        "\n",
        "\n",
        "\n"
      ]
    },
    {
      "cell_type": "code",
      "execution_count": null,
      "metadata": {},
      "outputs": [],
      "source": [
        "for layer_name in layer_names:\n",
        "    feature_extraction_model = build_feature_extraction_model(layer_name)\n",
        "    x_train_features = extract_features(Xtrain_processed3Channel, feature_extraction_model)\n",
        "    \n",
        "    print(x_train_features.shape)\n",
        "    # Flatten the features to use them in t-SNE\n",
        "    x_train_features_flat = x_train_features.reshape((x_train_features.shape[0], -1))\n",
        "\n",
        "    print(x_train_features_flat.shape)\n",
        "    \n",
        "    # Visualize features using t-SNE\n",
        "    tsne = TSNE(n_components=2, random_state=42)\n",
        "    x_train_features_2d = tsne.fit_transform(x_train_features_flat)\n",
        "    \n",
        "    plt.figure(figsize=(8, 6))\n",
        "    scatter = plt.scatter(x_train_features_2d[:, 0], x_train_features_2d[:, 1], c=y_train, cmap='viridis')\n",
        "    plt.title(f'Features extracted from layer: {layer_name}')\n",
        "    plt.colorbar(scatter, ticks=range(7), label='Classes')\n",
        "    plt.show()\n",
        "\n",
        "print(model.summary())\n"
      ]
    },
    {
      "cell_type": "markdown",
      "metadata": {
        "id": "BPtjyr_33OuP"
      },
      "source": [
        "# Partie 3: Entraînement de modèles d'apprentissage machine\n",
        "\n",
        "Vous êtes maintenant prêt à entraîner un modèle d'apprentissage automatique avec les vecteurs de primitives « deep » extraits dans la Partie 2. Nous allons de nouveau utiliser un arbre de décision, comme dans le lab précédent."
      ]
    },
    {
      "cell_type": "markdown",
      "metadata": {
        "id": "DzyvUlkV3OuP"
      },
      "source": [
        "## 3a: Entraîner un arbre de décision avec les primitives « deep »\n",
        "\n",
        "###  <font color=blue> À faire: </font>\n",
        "\n",
        "1. Utiliser l'algorithme [arbre de décision](https://scikit-learn.org/stable/modules/tree.html#tree-classification) de la bibliothèque `scikit-learn` après l'étude de [ses hyperparamètres](https://scikit-learn.org/stable/modules/generated/sklearn.tree.DecisionTreeClassifier.html#sklearn.tree.DecisionTreeClassifier). Choisir quelques hyperparamètres (au moins 2) et tourner un *grid search* sur l'ensemble de validation pour trouver les meilleures valeurs pour ces hyperparamètres.\n",
        "   - Astuce: Vous avez déjà un ensemble de validation! Alors, c'est préférable (beaucoup plus rapide!) d’utiliser la bibliothèque [hypopt](https://pypi.org/project/hypopt/) pour faire le réglage des hyperparamètres (grid seach)<br><br>\n",
        "\n",
        "2. Une fois que vous avez trouvé le meilleur modèle, utiliser ces modèles pour faire la prédiction sur tous les exemples (apprentissage, validation, test) et rapporter les résultats (comme fait dans les TP1 et TP2):<br>\n",
        "   4a. Rapport de classification produit avec *<font color=green>from sklearn.metrics import classification_report</font>*<br>\n",
        "   4b. taux de classification correct sur les trois (3) ensembles de données (sous la forme d'un tableau)<br>\n",
        "   4c. matrice de confusion produite avec *<font color=green> from sklearn.metrics import confusion_matrix</font>* pour les résultats sur l'ensemble de test (matrice 7 $\\times$ 7 - étiquéttes $\\times$ prédictions)\n",
        "\n",
        "5. Sauvegarder votre modèle dans un fichier *.pkl*. Regarder [model persistence](https://scikit-learn.org/stable/model_persistence.html)\n",
        "\n",
        "6. Comparez les résultats avec ceux attendus avec les primitives globales/locales (TP2) et *template matching* (TP1)\n",
        "\n",
        "7. Faire une brève analyse des résultats et présenter vos considérations et conclusions sur la performance de vos primitives « deep »."
      ]
    },
    {
      "cell_type": "markdown",
      "metadata": {
        "id": "geoq5_Jj9o6M"
      },
      "source": [
        "**Question bonus (Tout élément de réponse pourra vous apporter des points bonus):**\n",
        "\n",
        "Utiliser un modèle tel qu'un [Visual Transformer (ViT)](https://pytorch.org/vision/main/models/vision_transformer.html) ou un [VMamba](https://github.com/MzeroMiko/VMamba) pour extraire les vecteurs de caractéristiques, puis comparer les résultats obtenus après classification via arbre de décision."
      ]
    },
    {
      "cell_type": "code",
      "execution_count": null,
      "metadata": {
        "id": "4xGX2tq49ofj"
      },
      "outputs": [],
      "source": []
    },
    {
      "cell_type": "markdown",
      "metadata": {
        "id": "LIfU_Rb_3OuP"
      },
      "source": [
        "#### Code"
      ]
    },
    {
      "cell_type": "code",
      "execution_count": null,
      "metadata": {
        "id": "u78clWrN3OuP"
      },
      "outputs": [],
      "source": [
        "# Votre code ici"
      ]
    },
    {
      "cell_type": "markdown",
      "metadata": {
        "id": "Py5yGxV13OuP"
      },
      "source": [
        "#### Vos réponses et résultats ici:\n",
        "\n",
        "##### Exemple:\n",
        "\n",
        "Taux de classification correcte (%)\n",
        "\n",
        "| Ensemble | modèle TM   |  AD+LBP Global  | AD+LBP Local  | modèle deep 1 | modèle deep 2 |                                   \n",
        "|----------|-------------|-----------------|---------------|---------------|---------------|\n",
        "| App      | 99,67       |                 |               |               |               |                   \n",
        "| Val      | 89,77       |                 |               |               |               |                             \n",
        "| Test     | 77,99       |                 |               |               |               |"
      ]
    },
    {
      "cell_type": "markdown",
      "metadata": {
        "id": "zoegq_KM3OuP"
      },
      "source": [
        "# Fin"
      ]
    }
  ],
  "metadata": {
    "colab": {
      "provenance": []
    },
    "kernelspec": {
      "display_name": "Python 3 (ipykernel)",
      "language": "python",
      "name": "python3"
    },
    "language_info": {
      "codemirror_mode": {
        "name": "ipython",
        "version": 3
      },
      "file_extension": ".py",
      "mimetype": "text/x-python",
      "name": "python",
      "nbconvert_exporter": "python",
      "pygments_lexer": "ipython3",
      "version": "3.11.8"
    }
  },
  "nbformat": 4,
  "nbformat_minor": 0
}
