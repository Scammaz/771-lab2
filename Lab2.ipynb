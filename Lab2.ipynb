{
  "cells": [
    {
      "cell_type": "markdown",
      "metadata": {
        "id": "HdpMMKxz3OuM"
      },
      "source": [
        "# GTI771 - Apprentissage machine avancé\n",
        "## Département de génie logiciel et des technologies de l’information\n",
        "\n",
        "\n",
        "## Laboratoire 3 - Extraction de primitives « deep »\n",
        "#### <font color=black> Version 2 - Été 2024 </font>\n",
        "\n",
        "##### <font color=grey> Version 1 - Prof. Alessandro L. Koerich.\n",
        "##### Version 2 - Chargé de lab. Arthur Josi"
      ]
    },
    {
      "cell_type": "markdown",
      "metadata": {
        "id": "drz4rknh3OuM"
      },
      "source": [
        "| NOMS                  | CODE PERMANENT                                   |\n",
        "|-----------------------|--------------------------------------------------|\n",
        "| Étudiant1             | Code1                                            |\n",
        "| Étudiant2             | Code2                                            |\n",
        "| Étudiant3             | Code3                                            |"
      ]
    },
    {
      "cell_type": "markdown",
      "metadata": {
        "id": "cwGlCNgl3OuN"
      },
      "source": [
        "## Introduction\n",
        "L'extraction de primitives est un des éléments clés des nombreux pipelines pour l'apprentissage automatique. De nombreuses méthodes reposent sur des algorithmes d'extraction de caractéristiques conçues par les humains comme SIFT, SURF, ORB, ou les descripteurs LBP, LPQ, HOG, etc.\n",
        "\n",
        "Cependant, depuis l'avènement des architectures de réseaux neuronaux convolutifs (CNNs), les CNN sont devenus l'épine dorsale des pipelines de traitement d'images pour une grande variété d'applications, de la classification d'images à la détection, du suivi à la localisation et la reconnaissance d'objets.\n",
        "\n",
        "Dans ce laboratoire, nous allons explorer les performances des CNNs préentraînés lorsqu'ils sont réutilisés comme extracteurs de primitives pour le problème de classification des émotions. Pour ce faire, nous allons examiner les caractéristiques extraites de différentes couches de différents CNNs entraînés avec ImageNet.\n",
        "\n",
        "L’évaluation de ce laboratoire sera basée sur:\n",
        "- l'utilisation correcte des CNNs préentraînés;\n",
        "- la qualité des algorithmes proposés et utilisés;\n",
        "- les réponses aux questions dans ce notebook;\n",
        "- l'organisation de votre code source (SVP, n'oubliez pas de mettre des commentaires dans le code source!)"
      ]
    },
    {
      "cell_type": "markdown",
      "metadata": {
        "id": "WqyBgSUK3OuN"
      },
      "source": [
        "# Modules et bibliotèques python"
      ]
    },
    {
      "cell_type": "markdown",
      "metadata": {
        "id": "1mA5NP9f3OuN"
      },
      "source": [
        "###  <font color=blue> À faire: </font>\n",
        "1. Ajouter les bibliothèques que vous avez utilisées pour compléter ce notebook dans une cellule avec une petite description."
      ]
    },
    {
      "cell_type": "markdown",
      "metadata": {
        "id": "hDnGhr243OuN"
      },
      "source": [
        "### Import de bibliotèques"
      ]
    },
    {
      "cell_type": "code",
      "execution_count": 1,
      "metadata": {
        "id": "ETWV73m83OuN"
      },
      "outputs": [],
      "source": [
        "import numpy as np  # package for scientific computing with Python.\n",
        "import matplotlib.pyplot as plt # 2D plotting library"
      ]
    },
    {
      "cell_type": "markdown",
      "metadata": {
        "id": "_rg35oBG4b7w"
      },
      "source": [
        "2. Ajouter toutes vos fonctions dans la cellule suivante avec une description de celles-ci."
      ]
    },
    {
      "cell_type": "markdown",
      "metadata": {
        "id": "qU8NIl2t3OuN"
      },
      "source": [
        "### Définition des fonctions"
      ]
    },
    {
      "cell_type": "code",
      "execution_count": 2,
      "metadata": {
        "id": "iJQxGd4F3OuO"
      },
      "outputs": [],
      "source": [
        "import numpy as np\n",
        "from sklearn.preprocessing import StandardScaler, MinMaxScaler\n",
        "from sklearn.model_selection import train_test_split\n",
        "\n",
        "def fa():\n",
        "    return 1\n",
        "\n",
        "############################################# Standardizer #############################################\n",
        "\n",
        "def normalize(X) -> np.ndarray:\n",
        "    return X / 255.0\n",
        "\n",
        "def standardize(data: np.ndarray) -> np.ndarray:\n",
        "    scaler = StandardScaler()\n",
        "    data_standardized = scaler.fit_transform(data)\n",
        "    return data_standardized, scaler\n",
        "\n",
        "def min_max_scale(data: np.ndarray) -> np.ndarray:\n",
        "    min_max_scaler = MinMaxScaler(feature_range=(0, 255))\n",
        "    data_scaled = min_max_scaler.fit_transform(data)\n",
        "    return data_scaled, min_max_scaler\n",
        "\n",
        "def processData(Xtrain, Xtest, Xval, is4848:bool = True):\n",
        "    # Normalize the data\n",
        "   \n",
        "\n",
        "    #print(\"Normalized Data:\")\n",
        "    #print(Xtrain[0], Xtest[0], Xval[0])\n",
        "\n",
        "    # Flatten the images\n",
        "    Xtrain_flattened = Xtrain.reshape((Xtrain.shape[0], -1))\n",
        "    Xtest_flattened = Xtest.reshape((Xtest.shape[0], -1))\n",
        "    Xval_flattened = Xval.reshape((Xval.shape[0], -1))\n",
        "\n",
        "  # Standardize\n",
        "    Xtrain_standardized, standardizer = standardize(Xtrain_flattened)\n",
        "    Xtest_standardized = standardizer.transform(Xtest_flattened)\n",
        "    Xval_standardized = standardizer.transform(Xval_flattened)\n",
        "\n",
        "\n",
        "    # Min-Max Scale\n",
        "    Xtrain_scaled, minMaxScaler = min_max_scale(Xtrain_standardized)\n",
        "    Xtest_scaled = minMaxScaler.transform(Xtest_standardized)\n",
        "    Xval_scaled = minMaxScaler.transform(Xval_standardized)\n",
        "\n",
        "  \n",
        "\n",
        "    # Reshape back to original image shape\n",
        "    if is4848:\n",
        "        Xtrain_processed = Xtrain_scaled.reshape( Xtrain.shape[0], 1, 48, 48 )\n",
        "        Xtest_processed  = Xtest_scaled.reshape( Xtest.shape[0], 1, 48, 48 )\n",
        "        Xval_processed   = Xval_scaled.reshape( Xval.shape[0], 1, 48, 48 )\n",
        "    else:\n",
        "        Xtrain_processed = Xtrain_scaled.reshape( Xtrain.shape[0], -1)\n",
        "        Xtest_processed  = Xtest_scaled.reshape( Xtest.shape[0],-1 )\n",
        "        Xval_processed   = Xval_scaled.reshape( Xval.shape[0],-1 )\n",
        "    #print(\"Processed Data:\")\n",
        "    #print(Xtrain_processed[0], Xtest_processed[0], Xval_processed[0])\n",
        "\n",
        "    return Xtrain_processed, Xtest_processed, Xval_processed\n"
      ]
    },
    {
      "cell_type": "markdown",
      "metadata": {
        "id": "jYHRdLp73OuO"
      },
      "source": [
        "# Partie 1 - Ensemble de données\n",
        "\n",
        "Point de départ: *fer2013-clean.csv* ou *fer2013-clean-pre.csv*"
      ]
    },
    {
      "cell_type": "markdown",
      "metadata": {
        "id": "glHlS3S33OuO"
      },
      "source": [
        "## 1a: Charger le fichier de données nettoyé et normalisé\n",
        "\n",
        "###  <font color=blue> À faire: </font>\n",
        "1. Reprenez votre ensemble de données nettoyé et repérez les trois partitions de données: apprentissage, validation et test."
      ]
    },
    {
      "cell_type": "code",
      "execution_count": 73,
      "metadata": {
        "id": "lZMfYtmH3OuO"
      },
      "outputs": [
        {
          "name": "stdout",
          "output_type": "stream",
          "text": [
            "(28657, 2304) (3582, 2304) (3580, 2304)\n"
          ]
        }
      ],
      "source": [
        "# Load data - Au choix:\n",
        "\n",
        "# ferData = np.loadtxt( 'fer2013-clean.csv', delimiter=',', dtype=str )\n",
        "ferData = np.loadtxt( 'content/fer2013-clean-pre.csv', delimiter=',', dtype=str )\n",
        "\n",
        "training_data = ferData[ferData[:, 2] == 'Training']\n",
        "validation_data = ferData[ferData[:, 2] == 'PublicTest']\n",
        "test_data = ferData[ferData[:, 2] == 'PrivateTest']\n",
        "\n",
        "def transform_str_float(d):\n",
        "    return np.array([np.fromstring(row, sep=' ', dtype=float) for row in d])\n",
        "\n",
        "# Training set\n",
        "Xtrain = transform_str_float(training_data[:, 1])\n",
        "ytrain = np.array(training_data[:,0], dtype=np.float32)\n",
        "\n",
        "# Validation set\n",
        "Xval = transform_str_float(validation_data[:, 1])\n",
        "yval = np.array(validation_data[:,0], dtype=np.float32)\n",
        "\n",
        "# # Test set\n",
        "Xtest = transform_str_float(test_data[:, 1])\n",
        "ytest = np.array(test_data[:,0], dtype=np.float32)\n",
        "\n",
        "print(Xtrain.shape, Xval.shape, Xtest.shape)"
      ]
    },
    {
      "cell_type": "code",
      "execution_count": 23,
      "metadata": {
        "id": "PQHdellQ3OuO"
      },
      "outputs": [
        {
          "name": "stdout",
          "output_type": "stream",
          "text": [
            "(28657, 1, 48, 48) (3582, 1, 48, 48) (3580, 1, 48, 48)\n"
          ]
        }
      ],
      "source": [
        "# reshape to be [samples][channels][width][height]\n",
        "Xtrain = Xtrain.reshape( Xtrain.shape[0], 1, 48, 48 ).astype('uint8')\n",
        "Xtest  = Xtest.reshape( Xtest.shape[0], 1, 48, 48 ).astype('uint8')\n",
        "Xval   = Xval.reshape( Xval.shape[0], 1, 48, 48 ).astype('uint8')\n",
        "\n",
        "print( Xtrain.shape, Xval.shape, Xtest.shape )\n",
        "\n",
        "\n",
        "Xtrain_processed, Xtest_processed, Xval_processed = processData(Xtrain, Xtest, Xval)"
      ]
    },
    {
      "cell_type": "markdown",
      "metadata": {
        "id": "4VE4zTOZ3OuO"
      },
      "source": [
        "# Partie 2: Extraction de primitives « deep »\n",
        "\n",
        "Nous pouvons utiliser des réseaux de neurones convolutionnels (CNN) préentraînés comme extracteurs de caractéristiques. Voir cette [référence](https://www.cim.mcgill.ca/~mrl/pubs/ahollid/crv_2020.pdf) (\"Pre-trained CNNs as Visual Feature Extractors: A Broad Evaluation\") pour vous aider à mieux comprendre quels types de couches peuvent fournir des vecteurs et pour guider le développement de ce TP."
      ]
    },
    {
      "cell_type": "markdown",
      "metadata": {
        "id": "44gGDFAX3OuO",
        "tags": []
      },
      "source": [
        "###  <font color=blue> À faire: </font>\n",
        "1. Choisir une des architectures [CNNs préentraînés disponible dans Keras](https://keras.io/api/applications/) pour l'utiliser comme un extracteur de primitives à boite fermé. Vous pouvez aussi bien utiliser [PyTorch](https://pytorch.org/vision/main/models) loader et travailler avec les modèles, selon vos préférences. <font color=red> VGG16 interdite! </font>\n",
        "\n",
        "- <font color=red> Attention! Les équipes doivent utiliser des architectures (modèles) différentes!</font>\n",
        "- <font color=red> Chaque équipe doit poster un message dans le \"forum TP3\" avec son choix</font>\n",
        "-  <font color=red> Premier arrivé, premier servi! </font><br>\n",
        "\n",
        "2. Étudiez l'architecture choisie pour bien comprendre ses différentes couches et les contraintes pour les images d'entrée. Chaque architecture a ses propres contraintes. Il est alors conseillé de lire attentivement la documentation de l'architecture choisie pour respecter aux exigences du CNN, et cela surtout concernant le format de l'image d'entrée.\n",
        "- résolution des images d'entrée - Les CNNs ont été entraînés avec une certaine résolution. Vous devrez probabnlement redimensionner vos images de visages;\n",
        "- nombre de canaux - Les CNNs exigent une image RGB couleur à l'entrée et que vous avez des données en niveaux de gris. Vous devrez répliquer l'image pour avoir 3 canaux.\n",
        "- normalisation des pixels - Les CNNs peuvent exiger différentes plages de valeurs \\[0,1\\], \\[-1,1\\], \\[0,255\\], etc. <br><br>\n",
        "\n",
        "3. Choisir les couches à partir desquelles vous souhaitez extraire vos vecteurs de primitive. Vous devez tester/évaluer au moins deux (2) couches différentes pour répondre à cette question.  Générer des vecteurs de primitives « deep » pour l'ensemble de données FER (apprentissage, validation et test).\n",
        "- N’oubliez pas de normaliser les vecteurs de primitives (p. ex. \\[0,1\\]). <br><br>\n",
        "\n",
        "4. Utiliser [T-SNE](https://learnopencv.com/t-sne-for-feature-visualization/) ou [UMAP](https://umap-learn.readthedocs.io/en/latest/plotting.html) comme outils de visualisation afin de determiner la qualité des vecteurs de primitives obtenus via l'une, puis l'autre des couches du CNN utilisé. Penser a afficher chaque classe d'une couleur différente, et utiliser une dimension de 2 (n_components = 2). Comparer les résultats obtenu selon la couche de CNN utilisée.\n",
        "\n",
        "5. Utiliser l'algorithme choisi dans la question précédente pour visualisez les vecteurs de primitives obtenu dans le laboratoire 2 et commenter.\n",
        "\n",
        "6. Sauvegardez vos vecteurs de primitives sous la forme d'un fichier 'csv' (p. ex. *fer2013-clean-deepVGG19.csv* ou *fer2013-clean-pre-deepVGG19.csv*). N'oubliez pas d'utiliser toujours la même structure du fichier original *fer2013.csv*. Vous devez nommer vos fichiers de primitive « deep » en référence au CNN utilisé, p. ex., *fer2013-clean-deepVGG19.csv* si vous utilisez VGG19 comme CNN.\n",
        "\n",
        "7. Décrivez brièvement l'architecture du CNN choisi (nombre et type de couches, etc.), contraintes pour utiliser le modèle pré-entraîné (format image, normalisation, etc.), couches évaluées comme sorties de primitives, et les vecteurs de primitives (dimension, type de variable, etc.)\n"
      ]
    },
    {
      "cell_type": "markdown",
      "metadata": {
        "id": "CK2j0QwH3OuO"
      },
      "source": [
        "#### Réponse"
      ]
    },
    {
      "cell_type": "markdown",
      "metadata": {
        "id": "Il81Dhs93OuO"
      },
      "source": [
        "Vos réponses écrites ici."
      ]
    },
    {
      "cell_type": "markdown",
      "metadata": {},
      "source": [
        "#### Definition des fonctions de conversion"
      ]
    },
    {
      "cell_type": "code",
      "execution_count": 70,
      "metadata": {},
      "outputs": [
        {
          "data": {
            "image/png": "[encoded data removed]",
            "text/plain": [
              "<Figure size 640x480 with 1 Axes>"
            ]
          },
          "metadata": {},
          "output_type": "display_data"
        },
        {
          "data": {
            "image/png": "[encoded data removed]",
            "text/plain": [
              "<Figure size 640x480 with 1 Axes>"
            ]
          },
          "metadata": {},
          "output_type": "display_data"
        },
        {
          "name": "stdout",
          "output_type": "stream",
          "text": [
            "(1, 224, 224, 3)\n"
          ]
        }
      ],
      "source": [
        "import cv2\n",
        "from PIL import Image\n",
        "import numpy as np\n",
        "from tensorflow.keras.applications.resnet_v2 import preprocess_input\n",
        "import matplotlib.pyplot as plt\n",
        "\n",
        "def preprocess_grayscale_image(image_preprocess):\n",
        "    \"\"\"\n",
        "    Load a 48x48 grayscale image, upscale it to 224x224, convert it to RGB, and preprocess for ResNet50V2.\n",
        "    \n",
        "    Parameters:\n",
        "    - image_preprocess: np.array, 48x48 grayscale image array.\n",
        "\n",
        "    Returns:\n",
        "    - image_array: np.array, preprocessed image array ready for ResNet50V2.\n",
        "    - image_pil: PIL Image, the upscaled RGB image for visualization.\n",
        "    \"\"\"\n",
        "    # Ensure the image is in numpy array format\n",
        "    if isinstance(image_preprocess, Image.Image):\n",
        "        image_preprocess = np.array(image_preprocess)\n",
        "    \n",
        "    # Upscale the image to 224x224 pixels using cv2\n",
        "    image_upscaled = cv2.resize(image_preprocess, (224, 224), interpolation=cv2.INTER_CUBIC)\n",
        "    \n",
        "    # Convert the upscaled grayscale image to RGB by replicating the grayscale channel\n",
        "    image_rgb = np.stack((image_upscaled,)*3, axis=-1)\n",
        "    \n",
        "    # Convert to uint8\n",
        "    image_rgb = image_rgb.astype(np.uint8)\n",
        "    \n",
        "    # Convert the image to a PIL Image for visualization purposes (optional)\n",
        "    image_pil = Image.fromarray(image_rgb)\n",
        "    \n",
        "    # Preprocess the image array for ResNet50V2\n",
        "    image_array = preprocess_input(image_rgb)\n",
        "    \n",
        "    # Expand dimensions to create a batch of size 1\n",
        "    image_array = np.expand_dims(image_array, axis=0)\n",
        "    \n",
        "    return image_array, image_pil\n",
        "\n",
        "# Example grayscale image array from Xtrain\n",
        "image = Xtrain[0].reshape(48, 48)\n",
        "\n",
        "# Plot the original grayscale image\n",
        "plt.imshow(image, cmap='gray')\n",
        "plt.title('Original Grayscale Image')\n",
        "plt.show()\n",
        "\n",
        "# Preprocess the image\n",
        "image_array, image_pil = preprocess_grayscale_image(image)\n",
        "\n",
        "# Plot the upscaled RGB image\n",
        "plt.imshow(image_pil)\n",
        "plt.title('Upscaled RGB Image')\n",
        "plt.show()\n",
        "\n",
        "print(image_array.shape)\n"
      ]
    },
    {
      "cell_type": "markdown",
      "metadata": {
        "id": "wTnC-oAc3OuO"
      },
      "source": [
        "#### Code"
      ]
    },
    {
      "cell_type": "code",
      "execution_count": 112,
      "metadata": {
        "id": "-_qLzq8C3OuP"
      },
      "outputs": [
        {
          "name": "stdout",
          "output_type": "stream",
          "text": [
            "(1, 224, 224, 3)\n",
            "[-1. -1. -1. ... -1. -1. -1.]\n",
            "Start\n",
            "(1, 48, 48)\n",
            "(100, 1, 48, 48)\n"
          ]
        },
        {
          "ename": "ValueError",
          "evalue": "cannot reshape array of size 10035200 into shape (100,224,224,3)",
          "output_type": "error",
          "traceback": [
            "\u001b[1;31m---------------------------------------------------------------------------\u001b[0m",
            "\u001b[1;31mValueError\u001b[0m                                Traceback (most recent call last)",
            "Cell \u001b[1;32mIn[112], line 75\u001b[0m\n\u001b[0;32m     72\u001b[0m \u001b[38;5;28mprint\u001b[39m(\u001b[38;5;124m\"\u001b[39m\u001b[38;5;124mStart\u001b[39m\u001b[38;5;124m\"\u001b[39m)\n\u001b[0;32m     73\u001b[0m \u001b[38;5;28mprint\u001b[39m(Xtrain_processed[\u001b[38;5;241m0\u001b[39m]\u001b[38;5;241m.\u001b[39mshape)\n\u001b[1;32m---> 75\u001b[0m Xtrain_processed3Channel, train_list_pil, x_train_features \u001b[38;5;241m=\u001b[39m \u001b[43mapply3channelNomralisation\u001b[49m\u001b[43m(\u001b[49m\u001b[43mXtrain_processed\u001b[49m\u001b[43m[\u001b[49m\u001b[43m:\u001b[49m\u001b[38;5;241;43m100\u001b[39;49m\u001b[43m]\u001b[49m\u001b[43m)\u001b[49m\n\u001b[0;32m     76\u001b[0m \u001b[38;5;28mprint\u001b[39m(\u001b[38;5;124m\"\u001b[39m\u001b[38;5;124mDone 1\u001b[39m\u001b[38;5;124m\"\u001b[39m)\n\u001b[0;32m     77\u001b[0m \u001b[38;5;28mprint\u001b[39m(Xtrain_processed3Channel[\u001b[38;5;241m0\u001b[39m]\u001b[38;5;241m.\u001b[39mshape)\n",
            "Cell \u001b[1;32mIn[112], line 69\u001b[0m, in \u001b[0;36mapply3channelNomralisation\u001b[1;34m(data)\u001b[0m\n\u001b[0;32m     66\u001b[0m     images_return\u001b[38;5;241m.\u001b[39mappend(images)\n\u001b[0;32m     67\u001b[0m     \u001b[38;5;66;03m#print(images.shape)\u001b[39;00m\n\u001b[1;32m---> 69\u001b[0m data \u001b[38;5;241m=\u001b[39m \u001b[43mnp\u001b[49m\u001b[38;5;241;43m.\u001b[39;49m\u001b[43marray\u001b[49m\u001b[43m(\u001b[49m\u001b[43mlist_features\u001b[49m\u001b[43m)\u001b[49m\u001b[38;5;241;43m.\u001b[39;49m\u001b[43mreshape\u001b[49m\u001b[43m(\u001b[49m\u001b[38;5;28;43mlen\u001b[39;49m\u001b[43m(\u001b[49m\u001b[43mdata\u001b[49m\u001b[43m)\u001b[49m\u001b[43m,\u001b[49m\u001b[43m \u001b[49m\u001b[38;5;241;43m224\u001b[39;49m\u001b[43m,\u001b[49m\u001b[43m \u001b[49m\u001b[38;5;241;43m224\u001b[39;49m\u001b[43m,\u001b[49m\u001b[38;5;241;43m3\u001b[39;49m\u001b[43m)\u001b[49m\n\u001b[0;32m     70\u001b[0m \u001b[38;5;28;01mreturn\u001b[39;00m data, list_pil, list_features\n",
            "\u001b[1;31mValueError\u001b[0m: cannot reshape array of size 10035200 into shape (100,224,224,3)"
          ]
        }
      ],
      "source": [
        "# Votre code ici\n",
        "import cv2\n",
        "from PIL import Image\n",
        "from matplotlib.cbook import flatten\n",
        "import numpy as np\n",
        "from sklearn.feature_selection import SequentialFeatureSelector\n",
        "from tensorflow.keras.applications.resnet_v2 import ResNet50V2, preprocess_input\n",
        "from tensorflow.keras.models import Model\n",
        "import matplotlib.pyplot as plt\n",
        "import numpy as np\n",
        "import pandas as pd\n",
        "import matplotlib.pyplot as plt\n",
        "import skimage.io\n",
        "\n",
        "\n",
        "\n",
        "print(image_array.shape)\n",
        "print(image_array.flatten())\n",
        "\n",
        "# Load ResNet50V2 model without the top layer (include_top=False)\n",
        "base_model = ResNet50V2(weights='imagenet', include_top=False, classes=7, input_shape=(224, 224, 3))\n",
        "\n",
        "\n",
        "\n",
        "\n",
        "\n",
        "def extract_features(image_array):\n",
        "    \"\"\"\n",
        "    Extract features from the preprocessed image using ResNet50V2.\n",
        "    \n",
        "    Parameters:\n",
        "    - image_array: np.array, preprocessed image array.\n",
        "\n",
        "    Returns:\n",
        "    - features: np.array, extracted features.\n",
        "    \"\"\"\n",
        "   \n",
        "    \n",
        "    # Create a new model that outputs the features from the desired layer\n",
        "    \n",
        "    # Get the features\n",
        "    features = base_model.predict(image_array, verbose=0)\n",
        "    \n",
        "    return features\n",
        "\n",
        "\n",
        "def apply3channelNomralisation(data:np.ndarray) -> np.ndarray:\n",
        "\n",
        "    list_features = []\n",
        "    list_pil = []\n",
        "    images_return = []\n",
        "    i = 0\n",
        "\n",
        "    print(data.shape)\n",
        "    \n",
        "    for images in data:\n",
        "        i+=1\n",
        "        if(i % 1000 == 0):\n",
        "            print(\"progress: \", i/ len(data) * 100, \"%\")\n",
        "        image_array, _pil = preprocess_grayscale_image(images.reshape(48, 48))\n",
        "        images = image_array.flatten()\n",
        "        images = images.reshape(1, 224, 224, 3)\n",
        "        features = extract_features(images)\n",
        "        list_features.append(features)\n",
        "        list_pil.append(_pil)\n",
        "        images_return.append(images)\n",
        "        #print(images.shape)\n",
        "\n",
        "    data = np.array(list_features).reshape(len(data), 224, 224,3)\n",
        "    return data, list_pil, list_features\n",
        "\n",
        "print(\"Start\")\n",
        "print(Xtrain_processed[0].shape)\n",
        "\n",
        "Xtrain_processed3Channel, train_list_pil, x_train_features = apply3channelNomralisation(Xtrain_processed[:100])\n",
        "print(\"Done 1\")\n",
        "print(Xtrain_processed3Channel[0].shape)\n",
        "\n",
        "Xtest_processed3Channel, test_list_pil, x_tes_features = apply3channelNomralisation(Xtest_processed[:10])\n",
        "Xval_processed3Channel, val_list_pil , x_val_features = apply3channelNomralisation(Xval_processed[:10])"
      ]
    },
    {
      "cell_type": "markdown",
      "metadata": {},
      "source": [
        "#### Feature extraction\n"
      ]
    },
    {
      "cell_type": "code",
      "execution_count": 4,
      "metadata": {},
      "outputs": [
        {
          "ename": "NameError",
          "evalue": "name 'ResNet50V2' is not defined",
          "output_type": "error",
          "traceback": [
            "\u001b[1;31m---------------------------------------------------------------------------\u001b[0m",
            "\u001b[1;31mNameError\u001b[0m                                 Traceback (most recent call last)",
            "Cell \u001b[1;32mIn[4], line 13\u001b[0m\n\u001b[0;32m      8\u001b[0m \u001b[38;5;28;01mfrom\u001b[39;00m \u001b[38;5;21;01mtensorflow\u001b[39;00m\u001b[38;5;21;01m.\u001b[39;00m\u001b[38;5;21;01mkeras\u001b[39;00m\u001b[38;5;21;01m.\u001b[39;00m\u001b[38;5;21;01mlayers\u001b[39;00m \u001b[38;5;28;01mimport\u001b[39;00m GlobalAveragePooling2D\n\u001b[0;32m     10\u001b[0m \u001b[38;5;66;03m#print(base_model.summary())\u001b[39;00m\n\u001b[0;32m     11\u001b[0m \u001b[38;5;66;03m# Get all layers of the model\u001b[39;00m\n\u001b[1;32m---> 13\u001b[0m base_model \u001b[38;5;241m=\u001b[39m \u001b[43mResNet50V2\u001b[49m(weights\u001b[38;5;241m=\u001b[39m\u001b[38;5;124m'\u001b[39m\u001b[38;5;124mimagenet\u001b[39m\u001b[38;5;124m'\u001b[39m, include_top\u001b[38;5;241m=\u001b[39m\u001b[38;5;28;01mFalse\u001b[39;00m, input_shape\u001b[38;5;241m=\u001b[39m(\u001b[38;5;241m224\u001b[39m, \u001b[38;5;241m224\u001b[39m, \u001b[38;5;241m3\u001b[39m))\n\u001b[0;32m     15\u001b[0m \u001b[38;5;66;03m# Choose the layer from which to extract features\u001b[39;00m\n\u001b[0;32m     16\u001b[0m layer_name \u001b[38;5;241m=\u001b[39m \u001b[38;5;124m'\u001b[39m\u001b[38;5;124mconv4_block3_1_conv\u001b[39m\u001b[38;5;124m'\u001b[39m\n",
            "\u001b[1;31mNameError\u001b[0m: name 'ResNet50V2' is not defined"
          ]
        }
      ],
      "source": [
        "import sklearn.datasets\n",
        "import pandas as pd\n",
        "import numpy as np\n",
        "from sklearn.manifold import TSNE\n",
        "import umap\n",
        "import matplotlib.pyplot as plt\n",
        "from tensorflow.keras.models import Model\n",
        "from tensorflow.keras.layers import GlobalAveragePooling2D\n",
        "from tensorflow.keras.applications.resnet_v2 import ResNet50V2, preprocess_input\n",
        "\n",
        "#print(base_model.summary())\n",
        "# Get all layers of the model\n",
        "\n",
        "base_model = ResNet50V2(weights='imagenet', include_top=False, input_shape=(224, 224, 3))\n",
        "\n",
        "# Choose the layer from which to extract features\n",
        "layer_name = 'conv4_block3_1_conv'\n",
        "\n",
        "# Get the output tensor of the selected layer\n",
        "output_tensor = base_model.get_layer(layer_name).output\n",
        "\n",
        "# Apply global average pooling to reduce dimensionality\n",
        "pooled_output = GlobalAveragePooling2D()(output_tensor)\n",
        "\n",
        "# Build a model that outputs the pooled feature vectors\n",
        "model = Model(inputs=base_model.input, outputs=pooled_output)\n",
        "\n",
        "print(model.summary())\n",
        "\n",
        "\n",
        "######\n",
        "print(Xtest_processed3Channel.shape)\n",
        "\n",
        "X_train_features = model.predict(Xtrain_processed3Channel[:1000])\n",
        "X_test_features = model.predict(Xtest_processed3Channel[:1000])\n",
        "\n",
        "# Extract pooled feature vectors for validation data\n",
        "\n",
        "# Train a classifier (e.g., logistic regression) using the pooled feature vectors\n",
        "from sklearn.linear_model import LogisticRegression\n",
        "\n",
        "classifier = LogisticRegression(max_iter=1000)\n",
        "classifier.fit(X_train_features, ytrain[:1000])\n",
        "\n",
        "# Evaluate the classifier on the validation set\n",
        "accuracy = classifier.score(X_test_features[1000], ytest[:1000])\n",
        "print(\"Validation Accuracy:\", accuracy)\n",
        "\n",
        "\n",
        "######\n",
        "# Extract features from the preprocessed image\n",
        "features = extract_features(image_array)\n",
        "# Print the shape of the extracted features\n",
        "print(features.shape)\n",
        "# Print the extracted features\n",
        "x_train_features = np.array(x_train_features).reshape(-1, 7*7*2048)\n",
        "x_tes_features = np.array(x_tes_features).reshape(-1, 7*7*2048)\n",
        "x_train_features = normalize(x_train_features)\n",
        "\n",
        "tsne = TSNE(n_components=2).fit_transform(x_train_features)\n",
        "# scale and move the coordinates so they fit [0; 1] range\n",
        "\n",
        "# scale and move the coordinates so they fit [0; 1] range\n",
        "def scale_to_01_range(x):\n",
        "    # compute the distribution range\n",
        "    value_range = (np.max(x) - np.min(x))\n",
        " \n",
        "    # move the distribution so that it starts from zero\n",
        "    # by extracting the minimal value from all its values\n",
        "    starts_from_zero = x - np.min(x)\n",
        " \n",
        "    # make the distribution fit [0; 1] by dividing by its range\n",
        "    return starts_from_zero / value_range\n",
        " \n",
        "# extract x and y coordinates representing the positions of the images on T-SNE plot\n",
        "tx = tsne[:, 0]\n",
        "ty = tsne[:, 1]\n",
        " \n",
        "tx = scale_to_01_range(tx)\n",
        "ty = scale_to_01_range(ty)\n",
        "\n",
        "\n",
        "colors_per_class = {\n",
        "    0: [255, 0, 0],\n",
        "    1: [0, 255, 0],\n",
        "    2: [0, 0, 255],\n",
        "    3: [255, 255, 0],\n",
        "    4: [255, 0, 255],\n",
        "    5: [0, 255, 255],\n",
        "    6: [1, 2, 3]\n",
        "}\n",
        "labels = ytrain[:1000]\n",
        "\n",
        "fig = plt.figure()\n",
        "ax = fig.add_subplot(111)\n",
        " \n",
        "# for every class, we'll add a scatter plot separately\n",
        "for label in colors_per_class:\n",
        "    # find the samples of the current class in the data\n",
        "    indices = [i for i, l in enumerate(labels) if l == label]\n",
        " \n",
        "    # extract the coordinates of the points of this class only\n",
        "    current_tx = np.take(tx, indices)\n",
        "    current_ty = np.take(ty, indices)\n",
        " \n",
        "    # convert the class color to matplotlib format\n",
        "    color = np.array(colors_per_class[label]) / 255\n",
        " \n",
        "    # add a scatter plot with the corresponding color and label\n",
        "    ax.scatter(current_tx, current_ty, c=color, label=label)\n",
        " \n",
        "# build a legend using the labels we set previously\n",
        "ax.legend(loc='best')\n",
        " \n",
        "# finally, show the plot\n",
        "plt.show()\n"
      ]
    },
    {
      "cell_type": "markdown",
      "metadata": {
        "id": "BPtjyr_33OuP"
      },
      "source": [
        "# Partie 3: Entraînement de modèles d'apprentissage machine\n",
        "\n",
        "Vous êtes maintenant prêt à entraîner un modèle d'apprentissage automatique avec les vecteurs de primitives « deep » extraits dans la Partie 2. Nous allons de nouveau utiliser un arbre de décision, comme dans le lab précédent."
      ]
    },
    {
      "cell_type": "markdown",
      "metadata": {
        "id": "DzyvUlkV3OuP"
      },
      "source": [
        "## 3a: Entraîner un arbre de décision avec les primitives « deep »\n",
        "\n",
        "###  <font color=blue> À faire: </font>\n",
        "\n",
        "1. Utiliser l'algorithme [arbre de décision](https://scikit-learn.org/stable/modules/tree.html#tree-classification) de la bibliothèque `scikit-learn` après l'étude de [ses hyperparamètres](https://scikit-learn.org/stable/modules/generated/sklearn.tree.DecisionTreeClassifier.html#sklearn.tree.DecisionTreeClassifier). Choisir quelques hyperparamètres (au moins 2) et tourner un *grid search* sur l'ensemble de validation pour trouver les meilleures valeurs pour ces hyperparamètres.\n",
        "   - Astuce: Vous avez déjà un ensemble de validation! Alors, c'est préférable (beaucoup plus rapide!) d’utiliser la bibliothèque [hypopt](https://pypi.org/project/hypopt/) pour faire le réglage des hyperparamètres (grid seach)<br><br>\n",
        "\n",
        "2. Une fois que vous avez trouvé le meilleur modèle, utiliser ces modèles pour faire la prédiction sur tous les exemples (apprentissage, validation, test) et rapporter les résultats (comme fait dans les TP1 et TP2):<br>\n",
        "   4a. Rapport de classification produit avec *<font color=green>from sklearn.metrics import classification_report</font>*<br>\n",
        "   4b. taux de classification correct sur les trois (3) ensembles de données (sous la forme d'un tableau)<br>\n",
        "   4c. matrice de confusion produite avec *<font color=green> from sklearn.metrics import confusion_matrix</font>* pour les résultats sur l'ensemble de test (matrice 7 $\\times$ 7 - étiquéttes $\\times$ prédictions)\n",
        "\n",
        "5. Sauvegarder votre modèle dans un fichier *.pkl*. Regarder [model persistence](https://scikit-learn.org/stable/model_persistence.html)\n",
        "\n",
        "6. Comparez les résultats avec ceux attendus avec les primitives globales/locales (TP2) et *template matching* (TP1)\n",
        "\n",
        "7. Faire une brève analyse des résultats et présenter vos considérations et conclusions sur la performance de vos primitives « deep »."
      ]
    },
    {
      "cell_type": "markdown",
      "metadata": {
        "id": "geoq5_Jj9o6M"
      },
      "source": [
        "**Question bonus (Tout élément de réponse pourra vous apporter des points bonus):**\n",
        "\n",
        "Utiliser un modèle tel qu'un [Visual Transformer (ViT)](https://pytorch.org/vision/main/models/vision_transformer.html) ou un [VMamba](https://github.com/MzeroMiko/VMamba) pour extraire les vecteurs de caractéristiques, puis comparer les résultats obtenus après classification via arbre de décision."
      ]
    },
    {
      "cell_type": "code",
      "execution_count": null,
      "metadata": {
        "id": "4xGX2tq49ofj"
      },
      "outputs": [],
      "source": []
    },
    {
      "cell_type": "markdown",
      "metadata": {
        "id": "LIfU_Rb_3OuP"
      },
      "source": [
        "#### Code"
      ]
    },
    {
      "cell_type": "code",
      "execution_count": null,
      "metadata": {
        "id": "u78clWrN3OuP"
      },
      "outputs": [],
      "source": [
        "# Votre code ici"
      ]
    },
    {
      "cell_type": "markdown",
      "metadata": {
        "id": "Py5yGxV13OuP"
      },
      "source": [
        "#### Vos réponses et résultats ici:\n",
        "\n",
        "##### Exemple:\n",
        "\n",
        "Taux de classification correcte (%)\n",
        "\n",
        "| Ensemble | modèle TM   |  AD+LBP Global  | AD+LBP Local  | modèle deep 1 | modèle deep 2 |                                   \n",
        "|----------|-------------|-----------------|---------------|---------------|---------------|\n",
        "| App      | 99,67       |                 |               |               |               |                   \n",
        "| Val      | 89,77       |                 |               |               |               |                             \n",
        "| Test     | 77,99       |                 |               |               |               |"
      ]
    },
    {
      "cell_type": "markdown",
      "metadata": {
        "id": "zoegq_KM3OuP"
      },
      "source": [
        "# Fin"
      ]
    }
  ],
  "metadata": {
    "colab": {
      "provenance": []
    },
    "kernelspec": {
      "display_name": "Python 3 (ipykernel)",
      "language": "python",
      "name": "python3"
    },
    "language_info": {
      "codemirror_mode": {
        "name": "ipython",
        "version": 3
      },
      "file_extension": ".py",
      "mimetype": "text/x-python",
      "name": "python",
      "nbconvert_exporter": "python",
      "pygments_lexer": "ipython3",
      "version": "3.12.1"
    }
  },
  "nbformat": 4,
  "nbformat_minor": 0
}
